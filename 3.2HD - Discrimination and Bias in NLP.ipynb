{
 "cells": [
  {
   "cell_type": "markdown",
   "metadata": {},
   "source": [
    "### Assignment 3.2HD\n",
    "#### Bevan Fairleigh\n",
    "#### Deakin University 219296864\n",
    "\n",
    "GitHub [link](https://github.com/bevanyeah/Assignments)!\n",
    "https://github.com/bevanyeah/Assignments"
   ]
  },
  {
   "cell_type": "markdown",
   "metadata": {},
   "source": [
    "Welcome to your assignment this week! \n",
    "\n",
    "To better understand bias and discrimination in AI, in this assignment, we will look at a Natural Language Processing use case. \n",
    "\n",
    "Natural Language Pocessing (NLP) is a branch of Artificial Intelligence (AI) that helps computers to understand, to interpret and to manipulate natural (i.e. human) language.\n",
    "Imagine NLP-powered machines as black boxes that are capable of understanding and evaluating the context of the input documents (i.e. collection of words), outputting meaningful results that depend on the task the machine is designed for.\n",
    "\n",
    "\n",
    "![](images/1_3zMvUnPzYZF9CSHdj6hT5A.png \"the title\")\n",
    "\n",
    "\n",
    "\n",
    "<caption><center> Documents are fed into magic NLP model capable to get, for instance, the sentiment of the original content</center></caption>\n",
    "\n",
    "\n",
    "\n",
    "Just like any other machine learning algorithm, biased data results in biased outcomes. And just like any other algorithm, results debiasing is painfully annoying, to the point that it might be simpler to unbias the society itself.\n",
    "\n",
    "# The big deal: word embeddings\n",
    "\n",
    "Words must be represented as **numeric vectors** in order to be fed into machine learning algorithms. One of the most powerful (and popular) ways to do it is through **Word Embeddings**. In word embedding models, each word in a given language is assigned to a high-dimensional vector, such that **the geometry of the vectors captures relations between the words**. \n",
    "\n",
    "\n",
    "Because word embeddings are very computionally expensive to train, most ML practitioners will load a pre-trained set of embeddings. \n",
    "\n",
    "**After this assignment you will be able to:**\n",
    "\n",
    "- Load pre-trained word vectors, and measure similarity using cosine similarity\n",
    "- Use word embeddings to solve word analogy problems such as Man is to Woman as King is to ______. \n",
    "- Modify word embeddings to reduce their gender bias \n",
    "\n",
    "Let's get started! Run the following cell to install all the packages you will need."
   ]
  },
  {
   "cell_type": "code",
   "execution_count": 290,
   "metadata": {},
   "outputs": [],
   "source": [
    "#!pip install numpy\n",
    "#!pip install keras\n",
    "#!pip install tensorflow"
   ]
  },
  {
   "cell_type": "markdown",
   "metadata": {},
   "source": [
    "Run the following cell to load the packages you will need."
   ]
  },
  {
   "cell_type": "code",
   "execution_count": 291,
   "metadata": {},
   "outputs": [],
   "source": [
    "import numpy as np\n",
    "from w2v_utils import *"
   ]
  },
  {
   "cell_type": "markdown",
   "metadata": {},
   "source": [
    "Next, lets load the word vectors. For this assignment, we will use 50-dimensional GloVe vectors to represent words. Run the following cell to load the `word_to_vec_map`. "
   ]
  },
  {
   "cell_type": "code",
   "execution_count": 292,
   "metadata": {},
   "outputs": [],
   "source": [
    "words, word_to_vec_map = read_glove_vecs('data/glove.6B.50d.txt')"
   ]
  },
  {
   "cell_type": "markdown",
   "metadata": {},
   "source": [
    "You've loaded:\n",
    "- `words`: set of words in the vocabulary.\n",
    "- `word_to_vec_map`: dictionary mapping words to their GloVe vector representation.\n",
    "\n"
   ]
  },
  {
   "cell_type": "code",
   "execution_count": 293,
   "metadata": {},
   "outputs": [
    {
     "name": "stdout",
     "output_type": "stream",
     "text": [
      "Example of words:  ['milder', 'carnoustie', 'holp', 'bathers', 'vipr', 'stock-market', 'discrediting', 'rutterschmidt', '5,690', 'vergeer']\n",
      "Vector for word 'person' =  [ 0.61734    0.40035    0.067786  -0.34263    2.0647     0.60844\n",
      "  0.32558    0.3869     0.36906    0.16553    0.0065053 -0.075674\n",
      "  0.57099    0.17314    1.0142    -0.49581   -0.38152    0.49255\n",
      " -0.16737   -0.33948   -0.44405    0.77543    0.20935    0.6007\n",
      "  0.86649   -1.8923    -0.37901   -0.28044    0.64214   -0.23549\n",
      "  2.9358    -0.086004  -0.14327   -0.50161    0.25291   -0.065446\n",
      "  0.60768    0.13984    0.018135  -0.34877    0.039985   0.07943\n",
      "  0.39318    1.0562    -0.23624   -0.4194    -0.35332   -0.15234\n",
      "  0.62158    0.79257  ]\n"
     ]
    }
   ],
   "source": [
    "print(\"Example of words: \",list(words)[:10])\n",
    "print(\"Vector for word 'person' = \", word_to_vec_map.get('person'))\n"
   ]
  },
  {
   "cell_type": "markdown",
   "metadata": {},
   "source": [
    "GloVe vectors provide much more useful information about the meaning of individual words. Lets now see how you can use GloVe vectors to decide how similar two words are. \n"
   ]
  },
  {
   "cell_type": "markdown",
   "metadata": {},
   "source": [
    "# Cosine similarity\n",
    "\n",
    "To measure how similar two words are, we need a way to measure the degree of similarity between two embedding vectors for the two words. Given two vectors $u$ and $v$, cosine similarity is defined as follows: \n",
    "\n",
    "\\begin{equation}\n",
    "\\text{CosineSimilarity(u, v)} = \\frac {u . v} {||u||_2 ||v||_2} = cos(\\theta) \\tag{1}\n",
    "\\end{equation}\n",
    "\n",
    "where $u.v$ is the dot product (or inner product) of two vectors, $||u||_2$ is the norm (or length) of the vector $u$, and $\\theta$ is the angle between $u$ and $v$. This similarity depends on the angle between $u$ and $v$. If $u$ and $v$ are very similar, their cosine similarity will be close to 1; if they are dissimilar, the cosine similarity will take a smaller value. \n",
    "\n",
    "\n",
    "![](images/cosine_sim.png)\n",
    "\n",
    "<caption><center> <b>Figure 1</b>: The cosine of the angle between two vectors is a measure of how similar they are</center></caption>\n",
    "\n"
   ]
  },
  {
   "cell_type": "markdown",
   "metadata": {},
   "source": [
    "***\n",
    "\n",
    "**Task 1**: Implement the function `cosine_similarity()` to evaluate similarity between word vectors.\n",
    "\n",
    "**Reminder**: The norm of $u$ is defined as $||u||_2 = \\sqrt{\\sum_{i=1}^{n} u_i^2}$"
   ]
  },
  {
   "cell_type": "code",
   "execution_count": 294,
   "metadata": {},
   "outputs": [],
   "source": [
    "## Task 1\n",
    "# cosine_similarity\n",
    "\n",
    "def cosine_similarity(u, v):\n",
    "    \"\"\"\n",
    "    Cosine similarity reflects the degree of similariy between u and v\n",
    "        \n",
    "    Arguments:\n",
    "        u -- a word vector of shape (n,)          \n",
    "        v -- a word vector of shape (n,)\n",
    "\n",
    "    Returns:\n",
    "        cosine_similarity -- the cosine similarity between u and v defined by the formula above.\n",
    "    \"\"\"\n",
    "    ## START YOU CODE HERE\n",
    "    \n",
    "    #u and v are both of type numpy array, with same dimensions\n",
    "    \n",
    "    costheta = np.dot(u,v) / (np.sqrt(np.sum(u ** 2)) * np.sqrt(np.sum(v ** 2)))\n",
    "    \n",
    "    return(costheta)\n",
    "\n",
    "    ## END\n"
   ]
  },
  {
   "cell_type": "markdown",
   "metadata": {},
   "source": [
    "***\n",
    "\n",
    "**Task 2**: Implement `most_similar_word` which returns the most similar word to a word."
   ]
  },
  {
   "cell_type": "code",
   "execution_count": 295,
   "metadata": {},
   "outputs": [],
   "source": [
    "## Task 2\n",
    "# GRADED FUNCTION: most_similar_word\n",
    "\n",
    "def most_similar_word(word, word_to_vec_map):\n",
    "    \"\"\"\n",
    "    Most similar word return the most similar word to the word u.\n",
    "        \n",
    "    Arguments:\n",
    "        word -- a word, string        \n",
    "        word_to_vec_map -- dictionary that maps words to their corresponding vectors. \n",
    "    \n",
    "    Returns:\n",
    "    best_word --  the most similar word to u as measured by cosine similarity\n",
    "    \"\"\"\n",
    "    ## START YOU CODE HERE\n",
    "    \n",
    "    best_word = ''\n",
    "    best_score = 0 \n",
    "    \n",
    "    \n",
    "    for test_word in word_to_vec_map:\n",
    "        score = cosine_similarity(word_to_vec_map.get(word),word_to_vec_map.get(test_word))\n",
    "        \n",
    "        #if the current score beats the best old score, AND it's not the actual word, replace the old word\n",
    "        if (score > best_score and word != test_word):\n",
    "            best_score = score\n",
    "            best_word = test_word\n",
    "            \n",
    "    return (best_word)\n",
    "    ## END\n",
    "    \n"
   ]
  },
  {
   "cell_type": "markdown",
   "metadata": {},
   "source": [
    "Answer the questions below:"
   ]
  },
  {
   "cell_type": "markdown",
   "metadata": {},
   "source": [
    "**TASK 3: Write a code the answer the following questions:**\n",
    "\n",
    "***"
   ]
  },
  {
   "cell_type": "markdown",
   "metadata": {},
   "source": [
    "What is the similarity between the words brother and friend?"
   ]
  },
  {
   "cell_type": "code",
   "execution_count": 296,
   "metadata": {},
   "outputs": [
    {
     "name": "stdout",
     "output_type": "stream",
     "text": [
      "0.8713178668124658\n"
     ]
    }
   ],
   "source": [
    "print(cosine_similarity(word_to_vec_map.get('brother'),word_to_vec_map.get('friend')))"
   ]
  },
  {
   "cell_type": "markdown",
   "metadata": {},
   "source": [
    "What is the similarity between the words computer and kid?"
   ]
  },
  {
   "cell_type": "code",
   "execution_count": 297,
   "metadata": {},
   "outputs": [
    {
     "name": "stdout",
     "output_type": "stream",
     "text": [
      "0.4380016621036385\n"
     ]
    }
   ],
   "source": [
    "print(cosine_similarity(word_to_vec_map.get('computer'),word_to_vec_map.get('kid')))"
   ]
  },
  {
   "cell_type": "markdown",
   "metadata": {},
   "source": [
    "What is the similarity between the words V1=(france - paris) and V2=(rome - italy)?"
   ]
  },
  {
   "cell_type": "code",
   "execution_count": 298,
   "metadata": {},
   "outputs": [
    {
     "name": "stdout",
     "output_type": "stream",
     "text": [
      "-0.6751479308174202\n"
     ]
    }
   ],
   "source": [
    "print(cosine_similarity(np.subtract(word_to_vec_map.get('france'),word_to_vec_map.get('paris')),np.subtract(word_to_vec_map.get('rome'),word_to_vec_map.get('italy'))))\n"
   ]
  },
  {
   "cell_type": "markdown",
   "metadata": {},
   "source": [
    "What is the most similar word to computer?\n"
   ]
  },
  {
   "cell_type": "code",
   "execution_count": 299,
   "metadata": {},
   "outputs": [
    {
     "name": "stdout",
     "output_type": "stream",
     "text": [
      "computers\n"
     ]
    }
   ],
   "source": [
    "print(most_similar_word('computer',word_to_vec_map))"
   ]
  },
  {
   "cell_type": "markdown",
   "metadata": {},
   "source": [
    "What is the most similar word to australia?"
   ]
  },
  {
   "cell_type": "code",
   "execution_count": 300,
   "metadata": {},
   "outputs": [
    {
     "name": "stdout",
     "output_type": "stream",
     "text": [
      "zealand\n"
     ]
    }
   ],
   "source": [
    "print(most_similar_word('australia',word_to_vec_map))"
   ]
  },
  {
   "cell_type": "markdown",
   "metadata": {},
   "source": [
    "What is the most similar word to python?\n"
   ]
  },
  {
   "cell_type": "code",
   "execution_count": 301,
   "metadata": {},
   "outputs": [
    {
     "name": "stdout",
     "output_type": "stream",
     "text": [
      "reticulated\n"
     ]
    }
   ],
   "source": [
    "print(most_similar_word('python',word_to_vec_map))"
   ]
  },
  {
   "cell_type": "markdown",
   "metadata": {},
   "source": [
    "***"
   ]
  },
  {
   "cell_type": "markdown",
   "metadata": {},
   "source": [
    "Playing around the cosine similarity of other inputs will give you a better sense of how word vectors behave. "
   ]
  },
  {
   "cell_type": "markdown",
   "metadata": {},
   "source": [
    "#  Word analogy task\n",
    "\n",
    "In the word analogy task, we complete the sentence <font color='brown'>\"*a* is to *b* as *c* is to **____**\"</font>. An example is <font color='brown'> '*man* is to *woman* as *king* is to *queen*' </font>. In detail, we are trying to find a word *d*, such that the associated word vectors $e_a, e_b, e_c, e_d$ are related in the following manner: $e_b - e_a \\approx e_d - e_c$. We will measure the similarity between $e_b - e_a$ and $e_d - e_c$ using cosine similarity. \n",
    "\n",
    "\n",
    "**Task 4**: Complete the code below to be able to perform word analogies!\n",
    "\n",
    "***"
   ]
  },
  {
   "cell_type": "code",
   "execution_count": 302,
   "metadata": {},
   "outputs": [],
   "source": [
    "## Task 4\n",
    "# GRADED FUNCTION: complete_analogy\n",
    "\n",
    "def complete_analogy(word_a, word_b, word_c, word_to_vec_map):\n",
    "    \"\"\"\n",
    "    Performs the word analogy task as explained above: a is to b as c is to ____. \n",
    "    \n",
    "    Arguments:\n",
    "    word_a -- a word, string\n",
    "    word_b -- a word, string\n",
    "    word_c -- a word, string\n",
    "    word_to_vec_map -- dictionary that maps words to their corresponding vectors. \n",
    "    \n",
    "    Returns:\n",
    "    best_word --  the word such that v_b - v_a is close to v_best_word - v_c, as measured by cosine similarity\n",
    "    \"\"\"\n",
    "    ## START YOU CODE HERE\n",
    "    \n",
    "    #First calculate similarity of word a and b\n",
    "    base_sim_diff = cosine_similarity(word_to_vec_map.get(word_b),word_to_vec_map.get(word_a))\n",
    "    \n",
    "    #  Loop through list to find word that gives closest cosine similarity    \n",
    "    best_word = ''\n",
    "    best_score = 2\n",
    "    \n",
    "    for test_word in word_to_vec_map:\n",
    "        score = cosine_similarity(word_to_vec_map.get(word_c),word_to_vec_map.get(test_word))\n",
    "        if(abs(score-base_sim_diff) < best_score):\n",
    "            best_score = abs(score-base_sim_diff)\n",
    "            best_word = test_word\n",
    "    return (best_word)\n",
    "\n",
    "    ##END\n"
   ]
  },
  {
   "cell_type": "markdown",
   "metadata": {},
   "source": [
    "Run the cell below to test your code, this may take 1-2 minutes."
   ]
  },
  {
   "cell_type": "code",
   "execution_count": 303,
   "metadata": {},
   "outputs": [
    {
     "name": "stdout",
     "output_type": "stream",
     "text": [
      "italy -> italian :: spain -> brazil\n",
      "india -> delhi :: japan -> korea\n",
      "man -> woman :: boy -> woman\n",
      "small -> smaller :: large -> smaller\n",
      "hand -> fingers :: foot -> feet\n",
      "china -> beijing :: thailand -> malaysia\n",
      "ocean -> water :: land -> farmland\n",
      "bullet -> gun :: arrow -> sword\n"
     ]
    }
   ],
   "source": [
    "triads_to_try = [('italy', 'italian', 'spain'), ('india', 'delhi', 'japan'), ('man', 'woman', 'boy'), ('small', 'smaller', 'large')]\n",
    "for triad in triads_to_try:\n",
    "    print ('{} -> {} :: {} -> {}'.format( *triad, complete_analogy(*triad,word_to_vec_map)))\n",
    "    \n",
    "    \n",
    "more_triads_to_try = [('hand', 'fingers', 'foot'), ('china', 'beijing', 'thailand'), ('ocean', 'water', 'land'), ('bullet', 'gun', 'arrow')]\n",
    "for triad in more_triads_to_try:\n",
    "    print ('{} -> {} :: {} -> {}'.format( *triad, complete_analogy(*triad,word_to_vec_map)))"
   ]
  },
  {
   "cell_type": "markdown",
   "metadata": {},
   "source": [
    "Once you get the correct expected output, please feel free to modify the input cells above to test your own analogies. Try to find some other analogy pairs that do work, but also find some where the algorithm doesn't give the right answer: For example, you can try small->smaller as big->?.  "
   ]
  },
  {
   "cell_type": "markdown",
   "metadata": {},
   "source": [
    "# Debiasing word vectors"
   ]
  },
  {
   "cell_type": "markdown",
   "metadata": {},
   "source": [
    "In the following exercise, you will examine gender biases that can be reflected in a word embedding, and explore algorithms for reducing the bias. In addition to learning about the topic of debiasing, this exercise will also help hone your intuition about what word vectors are doing. This section involves a bit of linear algebra, though you can probably complete it even without being expert in linear algebra, and we encourage you to give it a shot. \n",
    "\n",
    "Lets first see how the GloVe word embeddings relate to gender. You will first compute a vector $g = e_{woman}-e_{man}$, where $e_{woman}$ represents the word vector corresponding to the word *woman*, and $e_{man}$ corresponds to the word vector corresponding to the word *man*. The resulting vector $g$ roughly encodes the concept of \"gender\". (You might get a more accurate representation if you compute $g_1 = e_{mother}-e_{father}$, $g_2 = e_{girl}-e_{boy}$, etc. and average over them. But just using $e_{woman}-e_{man}$ will give good enough results for now.) \n"
   ]
  },
  {
   "cell_type": "markdown",
   "metadata": {},
   "source": [
    "**Task 5:** Compute the bias vector using woman - man\n",
    "\n",
    "***"
   ]
  },
  {
   "cell_type": "code",
   "execution_count": 304,
   "metadata": {},
   "outputs": [
    {
     "name": "stdout",
     "output_type": "stream",
     "text": [
      "[-0.087144    0.2182     -0.40986    -0.03922    -0.1032      0.94165\n",
      " -0.06042     0.32988     0.46144    -0.35962     0.31102    -0.86824\n",
      "  0.96006     0.01073     0.24337     0.08193    -1.02722    -0.21122\n",
      "  0.695044   -0.00222     0.29106     0.5053     -0.099454    0.40445\n",
      "  0.30181     0.1355     -0.0606     -0.07131    -0.19245    -0.06115\n",
      " -0.3204      0.07165    -0.13337    -0.25068714 -0.14293    -0.224957\n",
      " -0.149       0.048882    0.12191    -0.27362    -0.165476   -0.20426\n",
      "  0.54376    -0.271425   -0.10245    -0.32108     0.2516     -0.33455\n",
      " -0.04371     0.01258   ]\n"
     ]
    }
   ],
   "source": [
    "## START YOU CODE HERE\n",
    "\n",
    "g = np.subtract(word_to_vec_map.get('woman'),word_to_vec_map.get('man'))\n",
    "\n",
    "## END\n",
    "\n",
    "print(g)"
   ]
  },
  {
   "cell_type": "markdown",
   "metadata": {},
   "source": [
    "***"
   ]
  },
  {
   "cell_type": "markdown",
   "metadata": {},
   "source": [
    "Now, you will consider the cosine similarity of different words with $g$. Consider what a positive value of similarity means vs a negative cosine similarity. "
   ]
  },
  {
   "cell_type": "markdown",
   "metadata": {
    "scrolled": false
   },
   "source": [
    "**Task 6: Compute and print the similarity between g and the words in name_list**\n",
    "\n",
    "***\n",
    "    "
   ]
  },
  {
   "cell_type": "code",
   "execution_count": 305,
   "metadata": {},
   "outputs": [
    {
     "name": "stdout",
     "output_type": "stream",
     "text": [
      "List of names and their similarities with constructed vector:\n",
      "Similarity score of john to bias vector is -0.232\n",
      "Similarity score of marie to bias vector is 0.316\n",
      "Similarity score of sophie to bias vector is 0.319\n",
      "Similarity score of ronaldo to bias vector is -0.312\n",
      "Similarity score of priya to bias vector is 0.176\n",
      "Similarity score of rahul to bias vector is -0.169\n",
      "Similarity score of danielle to bias vector is 0.244\n",
      "Similarity score of reza to bias vector is -0.079\n",
      "Similarity score of katy to bias vector is 0.283\n",
      "Similarity score of yasmin to bias vector is 0.233\n"
     ]
    }
   ],
   "source": [
    "print ('List of names and their similarities with constructed vector:')\n",
    "name_list = ['john', 'marie', 'sophie', 'ronaldo', 'priya', 'rahul', 'danielle', 'reza', 'katy', 'yasmin']\n",
    "\n",
    "## START YOU CODE HERE\n",
    "\n",
    "for name in name_list:\n",
    "    print(f'Similarity score of {name} to bias vector is {cosine_similarity(g,word_to_vec_map.get(name)):.3f}')\n",
    "\n",
    "## END "
   ]
  },
  {
   "cell_type": "markdown",
   "metadata": {},
   "source": [
    "***"
   ]
  },
  {
   "cell_type": "markdown",
   "metadata": {},
   "source": [
    "**TASK 7: What do you abserve?**\n",
    "\n",
    "***\n",
    "\n",
    "It appears that names with a negative similarity score are generally more masculine names, while positive scores that are more closely associated with the bias vector are feminine, which you would expect given the bias vector was created to be feminine.  The magnitude of the score may correlate to a higher level of confidence in classifying names as either more masculine or feminine.    \n",
    "\n",
    "\n",
    "***"
   ]
  },
  {
   "cell_type": "markdown",
   "metadata": {},
   "source": [
    "**Task 8: Compute and print the similarity between g and the words in word_list:**\n",
    "\n",
    "***"
   ]
  },
  {
   "cell_type": "code",
   "execution_count": 306,
   "metadata": {},
   "outputs": [
    {
     "name": "stdout",
     "output_type": "stream",
     "text": [
      "Other words and their similarities:\n",
      "Similarity score of lipstick to bias vector is 0.277\n",
      "Similarity score of guns to bias vector is -0.189\n",
      "Similarity score of science to bias vector is -0.061\n",
      "Similarity score of arts to bias vector is 0.008\n",
      "Similarity score of literature to bias vector is 0.065\n",
      "Similarity score of warrior to bias vector is -0.209\n",
      "Similarity score of doctor to bias vector is 0.119\n",
      "Similarity score of tree to bias vector is -0.071\n",
      "Similarity score of receptionist to bias vector is 0.331\n",
      "Similarity score of technology to bias vector is -0.132\n",
      "Similarity score of fashion to bias vector is 0.036\n",
      "Similarity score of teacher to bias vector is 0.179\n",
      "Similarity score of engineer to bias vector is -0.080\n",
      "Similarity score of pilot to bias vector is 0.001\n",
      "Similarity score of computer to bias vector is -0.103\n",
      "Similarity score of singer to bias vector is 0.185\n"
     ]
    }
   ],
   "source": [
    "print('Other words and their similarities:')\n",
    "word_list = ['lipstick', 'guns', 'science', 'arts', 'literature', 'warrior','doctor', 'tree', 'receptionist', \n",
    "             'technology',  'fashion', 'teacher', 'engineer', 'pilot', 'computer', 'singer']\n",
    "\n",
    "## START YOU CODE HERE\n",
    "for word in word_list:\n",
    "    print(f'Similarity score of {word} to bias vector is {cosine_similarity(g,word_to_vec_map.get(word)):.3f}')\n",
    "\n",
    "\n",
    "## END \n"
   ]
  },
  {
   "cell_type": "markdown",
   "metadata": {},
   "source": [
    "***"
   ]
  },
  {
   "cell_type": "markdown",
   "metadata": {},
   "source": [
    "**TASK 7: What do you abserve?**\n",
    "\n",
    "***\n",
    "\n",
    "These scores represent how each word can be biased towards either being masculine (negative results) or feminine (positive results).  Again, magnitude of scores seem to correlate to strength of the stereotype.  Results closer to zero are less biased, or close to neutral.\n",
    "\n",
    "Key observation is that this data is biased, inferring that gender neutral terms, such as guns, science, technology, engineer and computer are all masculine, which is generally untrue.\n",
    "\n",
    "\n",
    "***\n"
   ]
  },
  {
   "cell_type": "markdown",
   "metadata": {},
   "source": [
    "\n",
    "We'll see below how to reduce the bias of these vectors, using an algorithm due to [Boliukbasi et al., 2016](https://arxiv.org/abs/1607.06520). Note that some word pairs such as \"actor\"/\"actress\" or \"grandmother\"/\"grandfather\" should remain gender specific, while other words such as \"receptionist\" or \"technology\" should be neutralized, i.e. not be gender-related. You will have to treat these two type of words differently when debiasing.\n",
    "\n",
    "# Neutralize bias for non-gender specific words \n",
    "\n",
    "The figure below should help you visualize what neutralizing does. If you're using a 50-dimensional word embedding, the 50 dimensional space can be split into two parts: The bias-direction $g$, and the remaining 49 dimensions, which we'll call $g_{\\perp}$. In linear algebra, we say that the 49 dimensional $g_{\\perp}$ is perpendicular (or \"orthogonal\") to $g$, meaning it is at 90 degrees to $g$. The neutralization step takes a vector such as $e_{receptionist}$ and zeros out the component in the direction of $g$, giving us $e_{receptionist}^{debiased}$. \n",
    "\n",
    "Even though $g_{\\perp}$ is 49 dimensional, given the limitations of what we can draw on a screen, we illustrate it using a 1 dimensional axis below. \n",
    "\n",
    "\n",
    "![](images/neutral.png)\n",
    "\n",
    "\n",
    "<caption><center> <b>Figure 2</b>: The word vector for \"receptionist\" represented before and after applying the neutralize operation. </center></caption>\n",
    "\n",
    "**TASK 10**: Implement `neutralize()` to remove the bias of words such as \"receptionist\" or \"scientist\". Given an input embedding $e$, you can use the following formulas to compute $e^{debiased}$: \n",
    "\n",
    "\n",
    "\\begin{equation}\n",
    "e^{bias\\_component} = \\frac{e \\cdot g}{||g||_2^2} * g\\tag{2}\n",
    "\\end{equation}\n",
    "\n",
    "\\begin{equation}\n",
    "e^{debiased} = e - e^{bias\\_component}\\tag{3}\n",
    "\\end{equation}\n",
    "\n",
    "If you are an expert in linear algebra, you may recognize $e^{bias\\_component}$ as the projection of $e$ onto the direction $g$. If you're not an expert in linear algebra, don't worry about this.\n",
    "\n",
    "<!-- \n",
    "**Reminder**: a vector $u$ can be split into two parts: its projection over a vector-axis $v_B$ and its projection over the axis orthogonal to $v$:\n",
    "$$u = u_B + u_{\\perp}$$\n",
    "where : $u_B = $ and $ u_{\\perp} = u - u_B $\n",
    "!--> \n",
    "***"
   ]
  },
  {
   "cell_type": "code",
   "execution_count": 307,
   "metadata": {},
   "outputs": [],
   "source": [
    "# TASK 10\n",
    "# GRADED neutralize\n",
    "\n",
    "def neutralize(word, g, word_to_vec_map):\n",
    "    \"\"\"\n",
    "    Removes the bias of \"word\" by projecting it on the space orthogonal to the bias axis. \n",
    "    This function ensures that gender neutral words are zero in the gender subspace.\n",
    "    \n",
    "    Arguments:\n",
    "        word -- string indicating the word to debias\n",
    "        g -- numpy-array of shape (50,), corresponding to the bias axis (such as gender)\n",
    "        word_to_vec_map -- dictionary mapping words to their corresponding vectors.\n",
    "    \n",
    "    Returns:\n",
    "        e_debiased -- neutralized word vector representation of the input \"word\"\n",
    "    \"\"\"\n",
    "    ## START YOU CODE HERE\n",
    "\n",
    "    #get 2-norm of g, and square it to get denominator\n",
    "    denom = np.sqrt(np.sum(g ** 2)) ** 2\n",
    "              \n",
    "    #calc dot product of e and g to get numerator\n",
    "    numer = np.dot(word_to_vec_map.get(word),g)\n",
    "    \n",
    "    #Calculate e bias component  \n",
    "    e_bias = (numer / denom) * g\n",
    "    \n",
    "    return (word_to_vec_map.get(word) - e_bias)\n",
    "    ## END"
   ]
  },
  {
   "cell_type": "code",
   "execution_count": 308,
   "metadata": {},
   "outputs": [
    {
     "name": "stdout",
     "output_type": "stream",
     "text": [
      "cosine similarity between receptionist and g, before neutralizing:  0.33077941750593737\n",
      "cosine similarity between receptionist and g, after neutralizing:  -5.841032332243514e-18\n"
     ]
    }
   ],
   "source": [
    "e = \"receptionist\"\n",
    "print(\"cosine similarity between \" + e + \" and g, before neutralizing: \", cosine_similarity(word_to_vec_map[\"receptionist\"], g))\n",
    "\n",
    "e_debiased = neutralize(\"receptionist\", g, word_to_vec_map)\n",
    "print(\"cosine similarity between \" + e + \" and g, after neutralizing: \", cosine_similarity(e_debiased, g))"
   ]
  },
  {
   "cell_type": "markdown",
   "metadata": {},
   "source": [
    "# Equalization algorithm for gender-specific words\n",
    "\n",
    "Next, lets see how debiasing can also be applied to word pairs such as \"actress\" and \"actor.\" Equalization is applied to pairs of words that you might want to have differ only through the gender property. As a concrete example, suppose that \"actress\" is closer to \"babysit\" than \"actor.\" By applying neutralizing to \"babysit\" we can reduce the gender-stereotype associated with babysitting. But this still does not guarantee that \"actor\" and \"actress\" are equidistant from \"babysit.\" The equalization algorithm takes care of this. \n",
    "\n",
    "The key idea behind equalization is to make sure that a particular pair of words are equi-distant from the 49-dimensional $g_\\perp$. The equalization step also ensures that the two equalized steps are now the same distance from $e_{receptionist}^{debiased}$, or from any other word that has been neutralized. In pictures, this is how equalization works: \n",
    "\n",
    "\n",
    "![](images/equalize10.png)\n",
    "\n",
    "\n",
    "\n",
    "The derivation of the linear algebra to do this is a bit more complex. (See Bolukbasi et al., 2016 for details.) But the key equations are: \n",
    "\n",
    "\\begin{equation}\n",
    "\\mu = \\frac{e_{w1} + e_{w2}}{2}\\tag{4}\n",
    "\\end{equation}\n",
    "\n",
    "\\begin{equation}\n",
    "\\mu_{B} = \\frac {\\mu \\cdot bias\\_axis}{||bias\\_axis||_2^2} *bias\\_axis\n",
    "\\tag{5}\n",
    "\\end{equation}\n",
    "\n",
    "\\begin{equation}\n",
    "\\mu_{\\perp} = \\mu - \\mu_{B} \\tag{6}\n",
    "\\end{equation}\n",
    "\n",
    "\\begin{equation}\n",
    "e_{w1B} = \\frac {e_{w1} \\cdot bias\\_axis}{||bias\\_axis||_2^2} *bias\\_axis\n",
    "\\tag{7}\n",
    "\\end{equation}\n",
    "\n",
    "\\begin{equation}\n",
    "e_{w2B} = \\frac {e_{w2} \\cdot bias\\_axis}{||bias\\_axis||_2^2} *bias\\_axis\n",
    "\\tag{8}\n",
    "\\end{equation}\n",
    "\n",
    "\\begin{equation}\n",
    "e_{w1B}^{corrected} = \\sqrt{ |{1 - ||\\mu_{\\perp} ||^2_2} |} * \\frac{e_{\\text{w1B}} - \\mu_B} {||(e_{w1} - \\mu_{\\perp}) - \\mu_B||} \\tag{9}\n",
    "\\end{equation}\n",
    "\n",
    "\\begin{equation}\n",
    "e_{w2B}^{corrected} = \\sqrt{ |{1 - ||\\mu_{\\perp} ||^2_2} |} * \\frac{e_{\\text{w2B}} - \\mu_B} {||(e_{w2} - \\mu_{\\perp}) - \\mu_B||} \\tag{10}\n",
    "\\end{equation}\n",
    "\n",
    "\\begin{equation}\n",
    "e_1 = e_{w1B}^{corrected} + \\mu_{\\perp} \\tag{11}\n",
    "\\end{equation}\n",
    "\n",
    "\\begin{equation}\n",
    "e_2 = e_{w2B}^{corrected} + \\mu_{\\perp} \\tag{12}\n",
    "\\end{equation}\n",
    "\n",
    "**TASK 11**: Implement the function below. Use the equations above to get the final equalized version of the pair of words. Good luck!\n",
    "\n",
    "***"
   ]
  },
  {
   "cell_type": "code",
   "execution_count": 309,
   "metadata": {},
   "outputs": [],
   "source": [
    "# TASK 11\n",
    "# GRADED equalize\n",
    "\n",
    "def equalize(pair, bias_axis, word_to_vec_map):\n",
    "    \"\"\"\n",
    "    Debias gender specific words by following the equalize method described in the figure above.\n",
    "    \n",
    "    Arguments:\n",
    "    pair -- pair of strings of gender specific words to debias, e.g. (\"actress\", \"actor\") \n",
    "    bias_axis -- numpy-array of shape (50,), vector corresponding to the bias axis, e.g. gender\n",
    "    word_to_vec_map -- dictionary mapping words to their corresponding vectors\n",
    "    \n",
    "    Returns\n",
    "    e_1 -- word vector corresponding to the first word\n",
    "    e_2 -- word vector corresponding to the second word\n",
    "    \"\"\"\n",
    "    ## START YOU CODE HERE\n",
    "    \n",
    "    #Calculate mu, mu b and mu perp\n",
    "    \n",
    "    mu = (word_to_vec_map.get(pair[0]) + word_to_vec_map.get(pair[1])) / 2\n",
    "    mu_b = (np.dot(mu,bias_axis) / np.sqrt(np.sum(bias_axis ** 2) ** 2)) * bias_axis\n",
    "    mu_perp = mu - mu_b\n",
    "    \n",
    "    #Calculate e-bias for both words\n",
    "    \n",
    "    e_1_b = np.divide(np.dot(word_to_vec_map.get(pair[0]), bias_axis), np.sqrt(np.sum(bias_axis ** 2)) ** 2) * bias_axis\n",
    "    e_2_b = np.divide(np.dot(word_to_vec_map.get(pair[1]), bias_axis), np.sqrt(np.sum(bias_axis ** 2)) ** 2) * bias_axis\n",
    "    \n",
    "    #Calculate the corrected vector\n",
    "    #First, calculate the first part of equation, noting it is identical for both words\n",
    "    first_part = np.sqrt(np.abs(1 - np.sqrt(np.sum(mu_perp ** 2)) ** 2))\n",
    "    \n",
    "    #Calcuate e bias corrected for both words\n",
    "    e_1_c = first_part * np.divide((e_1_b - mu_b),np.abs(word_to_vec_map.get(pair[0])-mu_perp-mu_b))\n",
    "    e_2_c = first_part * ((e_2_b - mu_b)/np.abs(word_to_vec_map.get(pair[1])-mu_perp-mu_b))\n",
    "\n",
    "    #Calculate final vector for each equalised word\n",
    "    e_1 = e_1_c + mu_perp\n",
    "    e_2 = e_2_c + mu_perp\n",
    "\n",
    "    return(e_1,e_2)\n",
    "    ##END"
   ]
  },
  {
   "cell_type": "code",
   "execution_count": 310,
   "metadata": {
    "scrolled": true
   },
   "outputs": [
    {
     "name": "stdout",
     "output_type": "stream",
     "text": [
      "cosine similarities before equalizing:\n",
      "cosine_similarity(word_to_vec_map[\"man\"], gender) =  -0.1171109576533683\n",
      "cosine_similarity(word_to_vec_map[\"woman\"], gender) =  0.3566661884627037\n",
      "\n",
      "cosine similarities after equalizing:\n",
      "cosine_similarity(e1, gender) =  -0.7165727525843937\n",
      "cosine_similarity(e2, gender) =  0.7396596474928907\n",
      "\n",
      "\n",
      "cosine similarities before equalizing:\n",
      "cosine_similarity(word_to_vec_map[\"actor\"], gender) =  -0.08387555382505693\n",
      "cosine_similarity(word_to_vec_map[\"actress\"], gender) =  0.3342249489789978\n",
      "\n",
      "cosine similarities after equalizing:\n",
      "cosine_similarity(e1, gender) =  -0.5221008397426841\n",
      "cosine_similarity(e2, gender) =  0.5236317933422894\n",
      "\n",
      "\n",
      "cosine similarities before equalizing:\n",
      "cosine_similarity(word_to_vec_map[\"husband\"], gender) =  0.21197676482556282\n",
      "cosine_similarity(word_to_vec_map[\"wife\"], gender) =  0.31745970289404996\n",
      "\n",
      "cosine similarities after equalizing:\n",
      "cosine_similarity(e1, gender) =  -0.7489742622188728\n",
      "cosine_similarity(e2, gender) =  0.7429281844210951\n",
      "\n",
      "\n",
      "cosine similarities before equalizing with enhanced Gender bias vector:\n",
      "cosine_similarity(word_to_vec_map[\"husband\"], enhanced Gender) =  0.20791416210049993\n",
      "cosine_similarity(word_to_vec_map[\"wife\"], enhanced Gender) =  0.34930501763150135\n",
      "\n",
      "cosine similarities after equalizing:\n",
      "cosine_similarity(e1, enhanced Gender) =  -0.5993409705579679\n",
      "cosine_similarity(e2, enhanced Gender) =  0.5994659495569964\n"
     ]
    }
   ],
   "source": [
    "print(\"cosine similarities before equalizing:\")\n",
    "print(\"cosine_similarity(word_to_vec_map[\\\"man\\\"], gender) = \", cosine_similarity(word_to_vec_map[\"man\"], g))\n",
    "print(\"cosine_similarity(word_to_vec_map[\\\"woman\\\"], gender) = \", cosine_similarity(word_to_vec_map[\"woman\"], g))\n",
    "print()\n",
    "e1, e2 = equalize((\"man\", \"woman\"), g, word_to_vec_map)\n",
    "print(\"cosine similarities after equalizing:\")\n",
    "print(\"cosine_similarity(e1, gender) = \", cosine_similarity(e1, g))\n",
    "print(\"cosine_similarity(e2, gender) = \", cosine_similarity(e2, g))\n",
    "print()\n",
    "print()\n",
    "print(\"cosine similarities before equalizing:\")\n",
    "print(\"cosine_similarity(word_to_vec_map[\\\"actor\\\"], gender) = \", cosine_similarity(word_to_vec_map[\"actor\"], g))\n",
    "print(\"cosine_similarity(word_to_vec_map[\\\"actress\\\"], gender) = \", cosine_similarity(word_to_vec_map[\"actress\"], g))\n",
    "print()\n",
    "e1, e2 = equalize((\"actor\", \"actress\"), g, word_to_vec_map)\n",
    "print(\"cosine similarities after equalizing:\")\n",
    "print(\"cosine_similarity(e1, gender) = \", cosine_similarity(e1, g))\n",
    "print(\"cosine_similarity(e2, gender) = \", cosine_similarity(e2, g))\n",
    "print()\n",
    "print()\n",
    "print(\"cosine similarities before equalizing:\")\n",
    "print(\"cosine_similarity(word_to_vec_map[\\\"husband\\\"], gender) = \", cosine_similarity(word_to_vec_map[\"husband\"], g))\n",
    "print(\"cosine_similarity(word_to_vec_map[\\\"wife\\\"], gender) = \", cosine_similarity(word_to_vec_map[\"wife\"], g))\n",
    "print()\n",
    "e1, e2 = equalize((\"husband\", \"wife\"), g, word_to_vec_map)\n",
    "print(\"cosine similarities after equalizing:\")\n",
    "print(\"cosine_similarity(e1, gender) = \", cosine_similarity(e1, g))\n",
    "print(\"cosine_similarity(e2, gender) = \", cosine_similarity(e2, g))\n",
    "\n",
    "\n",
    "\n",
    "#Calculate a better gender bias vector\n",
    "g1 = np.subtract(word_to_vec_map.get('girl'),word_to_vec_map.get('boy'))\n",
    "g2 = np.subtract(word_to_vec_map.get('woman'),word_to_vec_map.get('man'))\n",
    "g3 = np.subtract(word_to_vec_map.get('female'),word_to_vec_map.get('male'))\n",
    "g4 = np.subtract(word_to_vec_map.get('lady'),word_to_vec_map.get('gentleman'))\n",
    "g5 = np.subtract(word_to_vec_map.get('queen'),word_to_vec_map.get('king'))\n",
    "g6 = np.subtract(word_to_vec_map.get('princess'),word_to_vec_map.get('prince'))\n",
    "new_g = (g1 + g2 + g3 + g4 + g5 + g6 ) / 7\n",
    "print()\n",
    "print()\n",
    "print(\"cosine similarities before equalizing with enhanced Gender bias vector:\")\n",
    "print(\"cosine_similarity(word_to_vec_map[\\\"husband\\\"], enhanced Gender) = \", cosine_similarity(word_to_vec_map[\"husband\"], new_g))\n",
    "print(\"cosine_similarity(word_to_vec_map[\\\"wife\\\"], enhanced Gender) = \", cosine_similarity(word_to_vec_map[\"wife\"], new_g))\n",
    "print()\n",
    "e1, e2 = equalize((\"husband\", \"wife\"), new_g, word_to_vec_map)\n",
    "print(\"cosine similarities after equalizing:\")\n",
    "print(\"cosine_similarity(e1, enhanced Gender) = \", cosine_similarity(e1, new_g))\n",
    "print(\"cosine_similarity(e2, enhanced Gender) = \", cosine_similarity(e2, new_g))"
   ]
  },
  {
   "cell_type": "markdown",
   "metadata": {},
   "source": [
    "**TASK 12: What do you abserve?**\n",
    "\n",
    "***\n",
    "\n",
    "As expected, pairs of words that are generally seen as gender specific terms have almost identical cosine similarity distances to the bias vector, except that one gender will be positive and the other negative.  This indicates that the bias has been equalised, and terms appear as true opposites when compared to the gender bias vector.\n",
    "\n",
    "\n",
    "***"
   ]
  },
  {
   "cell_type": "markdown",
   "metadata": {
    "collapsed": true
   },
   "source": [
    "Please feel free to play with the input words in the cell above, to apply equalization to other pairs of words. \n",
    "\n",
    "These debiasing algorithms are very helpful for reducing bias, but are not perfect and do not eliminate all traces of bias. For example, one weakness of this implementation was that the bias direction $g$ was defined using only the pair of words _woman_ and _man_. As discussed earlier, if $g$ were defined by computing $g_1 = e_{woman} - e_{man}$; $g_2 = e_{mother} - e_{father}$; $g_3 = e_{girl} - e_{boy}$; and so on and averaging over them, you would obtain a better estimate of the \"gender\" dimension in the 50 dimensional word embedding space. Feel free to play with such variants as well.  \n",
    "                     "
   ]
  },
  {
   "cell_type": "markdown",
   "metadata": {},
   "source": [
    "# Congratulations!\n",
    "\n",
    "You've come to the end of this assignment, and have seen a lot of the ways that word vectors can be used as well as  modified. Here are the main points you should remember:\n",
    "\n",
    "- Cosine similarity a good way to compare similarity between pairs of word vectors. (Though L2 distance works too.) \n",
    "- For NLP applications, using a pre-trained set of word vectors from the internet is often a good way to get started. \n",
    "- Bias in data is an important problem.\n",
    "- Neutralize and equalize allow to reduce bias in the data.\n",
    "\n",
    "Congratulations on finishing this notebook! \n",
    "\n"
   ]
  },
  {
   "cell_type": "markdown",
   "metadata": {},
   "source": [
    "# References\n",
    "- The debiasing algorithm is from Bolukbasi et al., 2016, [Man is to Computer Programmer as Woman is to\n",
    "Homemaker? Debiasing Word Embeddings](https://papers.nips.cc/paper/6228-man-is-to-computer-programmer-as-woman-is-to-homemaker-debiasing-word-embeddings.pdf)\n",
    "- The GloVe word embeddings were due to Jeffrey Pennington, Richard Socher, and Christopher D. Manning. (https://nlp.stanford.edu/projects/glove/)\n"
   ]
  }
 ],
 "metadata": {
  "coursera": {
   "course_slug": "nlp-sequence-models",
   "graded_item_id": "8hb5s",
   "launcher_item_id": "5NrJ6"
  },
  "kernelspec": {
   "display_name": "Python 3",
   "language": "python",
   "name": "python3"
  },
  "language_info": {
   "codemirror_mode": {
    "name": "ipython",
    "version": 3
   },
   "file_extension": ".py",
   "mimetype": "text/x-python",
   "name": "python",
   "nbconvert_exporter": "python",
   "pygments_lexer": "ipython3",
   "version": "3.7.6"
  }
 },
 "nbformat": 4,
 "nbformat_minor": 2
}
