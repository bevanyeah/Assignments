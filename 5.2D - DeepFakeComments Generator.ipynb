{
 "cells": [
  {
   "cell_type": "markdown",
   "metadata": {},
   "source": [
    "GitHub: https://github.com/bevanyeah/assignments"
   ]
  },
  {
   "cell_type": "markdown",
   "metadata": {},
   "source": [
    "\n",
    "Welcome to your assignment this week! \n",
    "\n",
    "To better understand the adverse use of AI, in this assignment, we will look at a Natural Language Processing use case.\n",
    "\n",
    "\n",
    "Natural Language Pocessing (NLP) is a branch of Artificial Intelligence (AI) that helps computers to understand, to interpret and to manipulate natural (i.e. human) language.\n",
    "Imagine NLP-powered machines as black boxes that are capable of understanding and evaluating the context of the input documents (i.e. collection of words), outputting meaningful results that depend on the task the machine is designed for.\n",
    "\n",
    "\n",
    "![](imgs/1_3zMvUnPzYZF9CSHdj6hT5A.png)\n",
    "\n",
    "<caption><center> Documents are fed into magic NLP model capable to get, for instance, the sentiment of the original content</center></caption>\n",
    "\n",
    "\n",
    "In this notebook, you will implement a model that uses an LSTM to generate fake tweets and comments. You will also be able to try it to generate your own fake text. \n",
    "\n",
    "**You will learn to:**\n",
    "- Apply an LSTM to generate fake comments.\n",
    "- Generate your own fake text with deep learning.\n",
    "\n",
    "Please run the following cell to load all the packages required in this assignment. This may take a few minutes. \n"
   ]
  },
  {
   "cell_type": "code",
   "execution_count": 371,
   "metadata": {},
   "outputs": [],
   "source": [
    "#!pip install numpy\n",
    "#!pip install keras\n",
    "#!pip install tensorflow"
   ]
  },
  {
   "cell_type": "markdown",
   "metadata": {},
   "source": [
    "Run the following cell to load the packages you will need."
   ]
  },
  {
   "cell_type": "code",
   "execution_count": 4,
   "metadata": {},
   "outputs": [
    {
     "name": "stderr",
     "output_type": "stream",
     "text": [
      "Using TensorFlow backend.\n"
     ]
    }
   ],
   "source": [
    "import time\n",
    "from tensorflow.keras.preprocessing.sequence import pad_sequences\n",
    "from tensorflow.keras.layers import Embedding, LSTM, Dense, Dropout, Bidirectional\n",
    "from tensorflow.keras.preprocessing.text import Tokenizer\n",
    "from tensorflow.keras.models import Sequential\n",
    "from tensorflow.keras.optimizers import Adam\n",
    "from tensorflow.keras import regularizers\n",
    "import tensorflow.keras.utils as ku \n",
    "import keras.backend as K\n",
    "import matplotlib.pyplot as plt\n",
    "import numpy as np"
   ]
  },
  {
   "cell_type": "markdown",
   "metadata": {},
   "source": [
    "# Build the model"
   ]
  },
  {
   "cell_type": "markdown",
   "metadata": {},
   "source": [
    "Let's define a tokenizer and read the data from disk."
   ]
  },
  {
   "cell_type": "code",
   "execution_count": 373,
   "metadata": {},
   "outputs": [],
   "source": [
    "tokenizer = Tokenizer(filters='\"#$%&()*+-/:;<=>@[\\\\]^_`{|}~\\t\\n')\n",
    "data = open('covid19_fake.txt').read().replace(\".\", \" . \").replace(\",\", \" , \").replace(\"?\", \" ? \").replace(\"!\", \" ! \")"
   ]
  },
  {
   "cell_type": "markdown",
   "metadata": {},
   "source": [
    "Now, let's splits the data into tweets  where each line of the input file is a fake tweets.\n",
    "\n",
    "We also extract the vocabulary of the data."
   ]
  },
  {
   "cell_type": "code",
   "execution_count": 374,
   "metadata": {},
   "outputs": [],
   "source": [
    "corpus = data.lower().split(\"\\n\")\n",
    "tokenizer.fit_on_texts(corpus)\n",
    "total_words = len(tokenizer.word_index) + 1"
   ]
  },
  {
   "cell_type": "markdown",
   "metadata": {},
   "source": [
    "You've loaded:\n",
    "- `corpus`: an array where each entry is a fake post.\n",
    "- `tokenizer`: which is the object that we will use to vectorize our dataset. This object also contains our word index.\n",
    "- `total_words`: is the total number of words in the vacabulary.\n"
   ]
  },
  {
   "cell_type": "code",
   "execution_count": 375,
   "metadata": {},
   "outputs": [
    {
     "name": "stdout",
     "output_type": "stream",
     "text": [
      "Example of fake tweets:  ['there is already a vaccine to treat covid19 . ', 'cleaning hands do not help to prevent covid19 . ']\n",
      "Size of the vocabulary =  1257\n",
      "Example of our word index =  [('.', 1), ('the', 2), ('covid19', 3), ('in', 4), ('to', 5), ('a', 6), ('of', 7), (',', 8), ('coronavirus', 9), ('and', 10)]\n"
     ]
    }
   ],
   "source": [
    "print(\"Example of fake tweets: \",corpus[:2])\n",
    "print(\"Size of the vocabulary = \", total_words)\n",
    "index = [(k, v) for k, v in tokenizer.word_index.items()]\n",
    "print(\"Example of our word index = \", index[0:10])"
   ]
  },
  {
   "cell_type": "markdown",
   "metadata": {},
   "source": [
    "The next step aims to generate the training set of n_grams sequences."
   ]
  },
  {
   "cell_type": "code",
   "execution_count": 376,
   "metadata": {},
   "outputs": [],
   "source": [
    "input_sequences = []\n",
    "for line in corpus:\n",
    "    token_list = tokenizer.texts_to_sequences([line])[0]\n",
    "    for i in range(1, len(token_list)):\n",
    "        n_gram_sequence = token_list[:i+1]\n",
    "        input_sequences.append(n_gram_sequence)"
   ]
  },
  {
   "cell_type": "markdown",
   "metadata": {},
   "source": [
    "You've create:\n",
    "- `input_sequences`: which is a list of n_grams sequences."
   ]
  },
  {
   "cell_type": "code",
   "execution_count": 377,
   "metadata": {},
   "outputs": [
    {
     "name": "stdout",
     "output_type": "stream",
     "text": [
      "The entry  20  in 'input_sequences' is: \n",
      "[2, 3, 12, 187, 34, 188]\n",
      " and it corresponds to:\n",
      "the covid19 is same as sars "
     ]
    }
   ],
   "source": [
    "sample = 20\n",
    "reverse_word_map = dict(map(reversed, tokenizer.word_index.items()))\n",
    "print(\"The entry \",sample,\" in 'input_sequences' is: \")\n",
    "print(input_sequences[sample])\n",
    "print(\" and it corresponds to:\")\n",
    "for i in input_sequences[sample]:\n",
    "    print(reverse_word_map[i], end=' ')\n",
    "                        "
   ]
  },
  {
   "cell_type": "markdown",
   "metadata": {},
   "source": [
    "Next, we padd our training set to the max length in order to be able to make a batch processing."
   ]
  },
  {
   "cell_type": "code",
   "execution_count": 378,
   "metadata": {},
   "outputs": [],
   "source": [
    "max_sequence_len = max([len(x) for x in input_sequences])\n",
    "input_sequences = np.array(pad_sequences(input_sequences, maxlen=max_sequence_len, padding='pre'))"
   ]
  },
  {
   "cell_type": "markdown",
   "metadata": {},
   "source": [
    "Run the following to see the containt of the padded 'input_sequences' object."
   ]
  },
  {
   "cell_type": "code",
   "execution_count": 379,
   "metadata": {},
   "outputs": [
    {
     "name": "stdout",
     "output_type": "stream",
     "text": [
      "The entry  20  in 'input_sequences' is: \n",
      "[  0   0   0   0   0   0   0   0   0   0   0   0   0   0   0   0   0   0\n",
      "   0   0   0   0   0   0   0   0   0   0   0   0   0   0   0   0   0   0\n",
      "   0   0   0   0   0   0   0   0   0   0   0   0   0   0   0   0   0   0\n",
      "   0   2   3  12 187  34 188]\n",
      " and it corresponds to:\n",
      "[ __ __ __ __ __ __ __ __ __ __ __ __ __ __ __ __ __ __ __ __ __ __ __ __ __ __ __ __ __ __ __ __ __ __ __ __ __ __ __ __ __ __ __ __ __ __ __ __ __ __ __ __ __ __ __ the covid19 is same as sars ]\n"
     ]
    }
   ],
   "source": [
    "reverse_word_map = dict(map(reversed, tokenizer.word_index.items()))\n",
    "print(\"The entry \",sample,\" in 'input_sequences' is: \")\n",
    "print(input_sequences[sample])\n",
    "print(\" and it corresponds to:\")\n",
    "print(\"[\", end=' ')\n",
    "for i in input_sequences[sample]:\n",
    "    if i in reverse_word_map:\n",
    "        print(reverse_word_map[i], end=' ')\n",
    "    else:\n",
    "        print(\"__\", end=' ')\n",
    "print(\"]\")\n",
    "                "
   ]
  },
  {
   "cell_type": "markdown",
   "metadata": {},
   "source": [
    "Given a sentence like **\"the covid19 is same as \"**, we want to design a model that can predict the next word -- in the case the word **\"sars\"**.\n",
    "\n",
    "Therefore, the next code prepares our input and output to our model consequently."
   ]
  },
  {
   "cell_type": "code",
   "execution_count": 380,
   "metadata": {},
   "outputs": [],
   "source": [
    "input_to_model, label = input_sequences[:,:-1],input_sequences[:,-1]\n"
   ]
  },
  {
   "cell_type": "code",
   "execution_count": 381,
   "metadata": {},
   "outputs": [
    {
     "name": "stdout",
     "output_type": "stream",
     "text": [
      "The entry  20  in 'input_sequences' is: \n",
      "[  0   0   0   0   0   0   0   0   0   0   0   0   0   0   0   0   0   0\n",
      "   0   0   0   0   0   0   0   0   0   0   0   0   0   0   0   0   0   0\n",
      "   0   0   0   0   0   0   0   0   0   0   0   0   0   0   0   0   0   0\n",
      "   0   2   3  12 187  34 188]\n",
      ", it corresponds to the following input to our model:\n",
      "[  0   0   0   0   0   0   0   0   0   0   0   0   0   0   0   0   0   0\n",
      "   0   0   0   0   0   0   0   0   0   0   0   0   0   0   0   0   0   0\n",
      "   0   0   0   0   0   0   0   0   0   0   0   0   0   0   0   0   0   0\n",
      "   0   2   3  12 187  34]\n",
      " and the following output:  188\n"
     ]
    }
   ],
   "source": [
    "print(\"The entry \",sample,\" in 'input_sequences' is: \")\n",
    "print(input_sequences[sample])\n",
    "print(\", it corresponds to the following input to our model:\")\n",
    "print(input_to_model[sample])\n",
    "print(\" and the following output: \", label[sample])\n"
   ]
  },
  {
   "cell_type": "markdown",
   "metadata": {},
   "source": [
    "Finally, we convert our label to categorical labels for being processed by our model."
   ]
  },
  {
   "cell_type": "code",
   "execution_count": 382,
   "metadata": {},
   "outputs": [],
   "source": [
    "label = ku.to_categorical(label, num_classes=total_words)"
   ]
  },
  {
   "cell_type": "markdown",
   "metadata": {},
   "source": [
    "Here is the architecture of the model we will use:\n",
    "\n",
    "![](imgs/text_generation.png)\n",
    "\n"
   ]
  },
  {
   "cell_type": "markdown",
   "metadata": {},
   "source": [
    " \n",
    "**Task 1**: Implement `deep_fake_comment_model()`. You will need to carry out 5 steps:\n",
    "\n",
    "1. Create a sequencial model using the `Sequential` class\n",
    "2. Add an embedding layer to the model using the `Embedding` class of size 128\n",
    "3. Add an LSTM layer to the model using the `LSTM` class of size 128\n",
    "4. Add a Dense layer to the model using the `Dense` class with a `softmax` activation\n",
    "5. Set a `categorical_crossentropy` loss function to the model and optimize `accuracy`.\n"
   ]
  },
  {
   "cell_type": "code",
   "execution_count": 383,
   "metadata": {},
   "outputs": [],
   "source": [
    "#TASK 1\n",
    "# deep_fake_comment_model\n",
    "\n",
    "def deep_fake_comment_model():\n",
    "    ### START CODE HERE ###\n",
    "\n",
    "    model = Sequential()\n",
    "    model.add(Embedding(input_dim=total_words, output_dim=128))\n",
    "    model.add(LSTM(128))\n",
    "    model.add(Dense(total_words, activation='softmax'))\n",
    "    model.compile(loss='categorical_crossentropy', optimizer='adam', metrics=['accuracy'])\n",
    "    return(model)\n",
    "\n",
    "    ### END CODE HERE ### \n",
    "    \n",
    "#Print details of the model.\n",
    "model = deep_fake_comment_model()"
   ]
  },
  {
   "cell_type": "markdown",
   "metadata": {},
   "source": [
    "Now, let's start our training."
   ]
  },
  {
   "cell_type": "code",
   "execution_count": 384,
   "metadata": {
    "scrolled": false
   },
   "outputs": [
    {
     "name": "stdout",
     "output_type": "stream",
     "text": [
      "Train on 4030 samples\n",
      "Epoch 1/200\n",
      "4030/4030 [==============================] - 27s 7ms/sample - loss: 6.4036 - accuracy: 0.0677\n",
      "Epoch 2/200\n",
      "4030/4030 [==============================] - 24s 6ms/sample - loss: 5.8799 - accuracy: 0.0749\n",
      "Epoch 3/200\n",
      "4030/4030 [==============================] - 24s 6ms/sample - loss: 5.7335 - accuracy: 0.0950\n",
      "Epoch 4/200\n",
      "4030/4030 [==============================] - 23s 6ms/sample - loss: 5.5964 - accuracy: 0.1144\n",
      "Epoch 5/200\n",
      "4030/4030 [==============================] - 23s 6ms/sample - loss: 5.4218 - accuracy: 0.1266\n",
      "Epoch 6/200\n",
      "4030/4030 [==============================] - 23s 6ms/sample - loss: 5.2463 - accuracy: 0.1385\n",
      "Epoch 7/200\n",
      "4030/4030 [==============================] - 24s 6ms/sample - loss: 5.0678 - accuracy: 0.1588\n",
      "Epoch 8/200\n",
      "4030/4030 [==============================] - 23s 6ms/sample - loss: 4.8922 - accuracy: 0.1715\n",
      "Epoch 9/200\n",
      "4030/4030 [==============================] - 23s 6ms/sample - loss: 4.7226 - accuracy: 0.1799\n",
      "Epoch 10/200\n",
      "4030/4030 [==============================] - 23s 6ms/sample - loss: 4.5544 - accuracy: 0.1928\n",
      "Epoch 11/200\n",
      "4030/4030 [==============================] - 23s 6ms/sample - loss: 4.3925 - accuracy: 0.2045\n",
      "Epoch 12/200\n",
      "4030/4030 [==============================] - 23s 6ms/sample - loss: 4.2333 - accuracy: 0.2144\n",
      "Epoch 13/200\n",
      "4030/4030 [==============================] - 23s 6ms/sample - loss: 4.0695 - accuracy: 0.2333\n",
      "Epoch 14/200\n",
      "4030/4030 [==============================] - 23s 6ms/sample - loss: 3.9049 - accuracy: 0.2524\n",
      "Epoch 15/200\n",
      "4030/4030 [==============================] - 23s 6ms/sample - loss: 3.7459 - accuracy: 0.2717\n",
      "Epoch 16/200\n",
      "4030/4030 [==============================] - 23s 6ms/sample - loss: 3.5846 - accuracy: 0.2896\n",
      "Epoch 17/200\n",
      "4030/4030 [==============================] - 23s 6ms/sample - loss: 3.4241 - accuracy: 0.3072\n",
      "Epoch 18/200\n",
      "4030/4030 [==============================] - 23s 6ms/sample - loss: 3.2665 - accuracy: 0.3310\n",
      "Epoch 19/200\n",
      "4030/4030 [==============================] - 23s 6ms/sample - loss: 3.1084 - accuracy: 0.3551\n",
      "Epoch 20/200\n",
      "4030/4030 [==============================] - 23s 6ms/sample - loss: 2.9597 - accuracy: 0.3821\n",
      "Epoch 21/200\n",
      "4030/4030 [==============================] - 23s 6ms/sample - loss: 2.8096 - accuracy: 0.4030\n",
      "Epoch 22/200\n",
      "4030/4030 [==============================] - 23s 6ms/sample - loss: 2.6606 - accuracy: 0.4308\n",
      "Epoch 23/200\n",
      "4030/4030 [==============================] - 23s 6ms/sample - loss: 2.5191 - accuracy: 0.4628\n",
      "Epoch 24/200\n",
      "4030/4030 [==============================] - 23s 6ms/sample - loss: 2.3791 - accuracy: 0.4923\n",
      "Epoch 25/200\n",
      "4030/4030 [==============================] - 23s 6ms/sample - loss: 2.2430 - accuracy: 0.5355\n",
      "Epoch 26/200\n",
      "4030/4030 [==============================] - 23s 6ms/sample - loss: 2.1141 - accuracy: 0.5615\n",
      "Epoch 27/200\n",
      "4030/4030 [==============================] - 23s 6ms/sample - loss: 1.9898 - accuracy: 0.5975\n",
      "Epoch 28/200\n",
      "4030/4030 [==============================] - 23s 6ms/sample - loss: 1.8708 - accuracy: 0.6228\n",
      "Epoch 29/200\n",
      "4030/4030 [==============================] - 24s 6ms/sample - loss: 1.7541 - accuracy: 0.6583\n",
      "Epoch 30/200\n",
      "4030/4030 [==============================] - 23s 6ms/sample - loss: 1.6458 - accuracy: 0.6829\n",
      "Epoch 31/200\n",
      "4030/4030 [==============================] - 23s 6ms/sample - loss: 1.5402 - accuracy: 0.7127\n",
      "Epoch 32/200\n",
      "4030/4030 [==============================] - 24s 6ms/sample - loss: 1.4422 - accuracy: 0.7352\n",
      "Epoch 33/200\n",
      "4030/4030 [==============================] - 24s 6ms/sample - loss: 1.3510 - accuracy: 0.7600\n",
      "Epoch 34/200\n",
      "4030/4030 [==============================] - 23s 6ms/sample - loss: 1.2637 - accuracy: 0.7777\n",
      "Epoch 35/200\n",
      "4030/4030 [==============================] - 24s 6ms/sample - loss: 1.1844 - accuracy: 0.7963\n",
      "Epoch 36/200\n",
      "4030/4030 [==============================] - 24s 6ms/sample - loss: 1.1086 - accuracy: 0.8069\n",
      "Epoch 37/200\n",
      "4030/4030 [==============================] - 24s 6ms/sample - loss: 1.0421 - accuracy: 0.8221\n",
      "Epoch 38/200\n",
      "4030/4030 [==============================] - 23s 6ms/sample - loss: 0.9776 - accuracy: 0.8355\n",
      "Epoch 39/200\n",
      "4030/4030 [==============================] - 23s 6ms/sample - loss: 0.9173 - accuracy: 0.8496\n",
      "Epoch 40/200\n",
      "4030/4030 [==============================] - 23s 6ms/sample - loss: 0.8616 - accuracy: 0.8541\n",
      "Epoch 41/200\n",
      "4030/4030 [==============================] - 23s 6ms/sample - loss: 0.8110 - accuracy: 0.8682\n",
      "Epoch 42/200\n",
      "4030/4030 [==============================] - 23s 6ms/sample - loss: 0.7627 - accuracy: 0.8759\n",
      "Epoch 43/200\n",
      "4030/4030 [==============================] - 23s 6ms/sample - loss: 0.7184 - accuracy: 0.8883\n",
      "Epoch 44/200\n",
      "4030/4030 [==============================] - 23s 6ms/sample - loss: 0.6750 - accuracy: 0.8916\n",
      "Epoch 45/200\n",
      "4030/4030 [==============================] - 23s 6ms/sample - loss: 0.6397 - accuracy: 0.8968\n",
      "Epoch 46/200\n",
      "4030/4030 [==============================] - 23s 6ms/sample - loss: 0.6008 - accuracy: 0.9040\n",
      "Epoch 47/200\n",
      "4030/4030 [==============================] - 23s 6ms/sample - loss: 0.5682 - accuracy: 0.9047\n",
      "Epoch 48/200\n",
      "4030/4030 [==============================] - 23s 6ms/sample - loss: 0.5388 - accuracy: 0.9124\n",
      "Epoch 49/200\n",
      "4030/4030 [==============================] - 23s 6ms/sample - loss: 0.5112 - accuracy: 0.9159\n",
      "Epoch 50/200\n",
      "4030/4030 [==============================] - 24s 6ms/sample - loss: 0.4844 - accuracy: 0.9176\n",
      "Epoch 51/200\n",
      "4030/4030 [==============================] - 24s 6ms/sample - loss: 0.4595 - accuracy: 0.9221\n",
      "Epoch 52/200\n",
      "4030/4030 [==============================] - 24s 6ms/sample - loss: 0.4372 - accuracy: 0.9241\n",
      "Epoch 53/200\n",
      "4030/4030 [==============================] - 24s 6ms/sample - loss: 0.4163 - accuracy: 0.9305\n",
      "Epoch 54/200\n",
      "4030/4030 [==============================] - 24s 6ms/sample - loss: 0.3953 - accuracy: 0.9320\n",
      "Epoch 55/200\n",
      "4030/4030 [==============================] - 26s 6ms/sample - loss: 0.3779 - accuracy: 0.9357\n",
      "Epoch 56/200\n",
      "4030/4030 [==============================] - 25s 6ms/sample - loss: 0.3598 - accuracy: 0.9367\n",
      "Epoch 57/200\n",
      "4030/4030 [==============================] - 24s 6ms/sample - loss: 0.3439 - accuracy: 0.9392\n",
      "Epoch 58/200\n",
      "4030/4030 [==============================] - 24s 6ms/sample - loss: 0.3283 - accuracy: 0.9392\n",
      "Epoch 59/200\n",
      "4030/4030 [==============================] - 29s 7ms/sample - loss: 0.3135 - accuracy: 0.9437\n",
      "Epoch 60/200\n",
      "4030/4030 [==============================] - 25s 6ms/sample - loss: 0.3019 - accuracy: 0.9417\n",
      "Epoch 61/200\n",
      "4030/4030 [==============================] - 25s 6ms/sample - loss: 0.2907 - accuracy: 0.9419\n",
      "Epoch 62/200\n",
      "4030/4030 [==============================] - 25s 6ms/sample - loss: 0.2800 - accuracy: 0.9439\n",
      "Epoch 63/200\n",
      "4030/4030 [==============================] - 26s 6ms/sample - loss: 0.2703 - accuracy: 0.9442\n",
      "Epoch 64/200\n",
      "4030/4030 [==============================] - 26s 6ms/sample - loss: 0.2599 - accuracy: 0.9449\n",
      "Epoch 65/200\n",
      "4030/4030 [==============================] - 25s 6ms/sample - loss: 0.2528 - accuracy: 0.9462\n",
      "Epoch 66/200\n",
      "4030/4030 [==============================] - 26s 7ms/sample - loss: 0.2429 - accuracy: 0.9459\n",
      "Epoch 67/200\n",
      "4030/4030 [==============================] - 25s 6ms/sample - loss: 0.2354 - accuracy: 0.9471\n",
      "Epoch 68/200\n",
      "4030/4030 [==============================] - 28s 7ms/sample - loss: 0.2290 - accuracy: 0.9444\n",
      "Epoch 69/200\n",
      "4030/4030 [==============================] - 27s 7ms/sample - loss: 0.2224 - accuracy: 0.9452\n",
      "Epoch 70/200\n",
      "4030/4030 [==============================] - 25s 6ms/sample - loss: 0.2186 - accuracy: 0.9476\n",
      "Epoch 71/200\n",
      "4030/4030 [==============================] - 27s 7ms/sample - loss: 0.2106 - accuracy: 0.9479\n",
      "Epoch 72/200\n",
      "4030/4030 [==============================] - 27s 7ms/sample - loss: 0.2066 - accuracy: 0.9476\n",
      "Epoch 73/200\n",
      "4030/4030 [==============================] - 40s 10ms/sample - loss: 0.1996 - accuracy: 0.9469\n",
      "Epoch 74/200\n",
      "4030/4030 [==============================] - 33s 8ms/sample - loss: 0.1960 - accuracy: 0.9484\n",
      "Epoch 75/200\n",
      "4030/4030 [==============================] - 28s 7ms/sample - loss: 0.1922 - accuracy: 0.9479\n",
      "Epoch 76/200\n",
      "4030/4030 [==============================] - 33s 8ms/sample - loss: 0.1895 - accuracy: 0.9481\n",
      "Epoch 77/200\n"
     ]
    },
    {
     "name": "stdout",
     "output_type": "stream",
     "text": [
      "4030/4030 [==============================] - 27s 7ms/sample - loss: 0.1846 - accuracy: 0.9489\n",
      "Epoch 78/200\n",
      "4030/4030 [==============================] - 26s 6ms/sample - loss: 0.1818 - accuracy: 0.9491\n",
      "Epoch 79/200\n",
      "4030/4030 [==============================] - 28s 7ms/sample - loss: 0.1782 - accuracy: 0.9474\n",
      "Epoch 80/200\n",
      "4030/4030 [==============================] - 26s 6ms/sample - loss: 0.1740 - accuracy: 0.9486\n",
      "Epoch 81/200\n",
      "4030/4030 [==============================] - 27s 7ms/sample - loss: 0.1729 - accuracy: 0.9474\n",
      "Epoch 82/200\n",
      "4030/4030 [==============================] - 28s 7ms/sample - loss: 0.1701 - accuracy: 0.9481\n",
      "Epoch 83/200\n",
      "4030/4030 [==============================] - 26s 6ms/sample - loss: 0.1678 - accuracy: 0.9481\n",
      "Epoch 84/200\n",
      "4030/4030 [==============================] - 30s 7ms/sample - loss: 0.1724 - accuracy: 0.9476\n",
      "Epoch 85/200\n",
      "4030/4030 [==============================] - 26s 7ms/sample - loss: 0.1775 - accuracy: 0.9459\n",
      "Epoch 86/200\n",
      "4030/4030 [==============================] - 26s 7ms/sample - loss: 0.1727 - accuracy: 0.9469\n",
      "Epoch 87/200\n",
      "4030/4030 [==============================] - 27s 7ms/sample - loss: 0.1614 - accuracy: 0.9471\n",
      "Epoch 88/200\n",
      "4030/4030 [==============================] - 26s 6ms/sample - loss: 0.1582 - accuracy: 0.9486\n",
      "Epoch 89/200\n",
      "4030/4030 [==============================] - 27s 7ms/sample - loss: 0.1566 - accuracy: 0.9489\n",
      "Epoch 90/200\n",
      "4030/4030 [==============================] - 25s 6ms/sample - loss: 0.1544 - accuracy: 0.9486\n",
      "Epoch 91/200\n",
      "4030/4030 [==============================] - 29s 7ms/sample - loss: 0.1529 - accuracy: 0.9496\n",
      "Epoch 92/200\n",
      "4030/4030 [==============================] - 26s 6ms/sample - loss: 0.1521 - accuracy: 0.9481\n",
      "Epoch 93/200\n",
      "4030/4030 [==============================] - 25s 6ms/sample - loss: 0.1503 - accuracy: 0.9501\n",
      "Epoch 94/200\n",
      "4030/4030 [==============================] - 26s 6ms/sample - loss: 0.1491 - accuracy: 0.9476\n",
      "Epoch 95/200\n",
      "4030/4030 [==============================] - 26s 6ms/sample - loss: 0.1484 - accuracy: 0.9496\n",
      "Epoch 96/200\n",
      "4030/4030 [==============================] - 27s 7ms/sample - loss: 0.1476 - accuracy: 0.9486\n",
      "Epoch 97/200\n",
      "4030/4030 [==============================] - 26s 6ms/sample - loss: 0.1464 - accuracy: 0.9489\n",
      "Epoch 98/200\n",
      "4030/4030 [==============================] - 25s 6ms/sample - loss: 0.1457 - accuracy: 0.9494\n",
      "Epoch 99/200\n",
      "4030/4030 [==============================] - 26s 7ms/sample - loss: 0.1447 - accuracy: 0.9496\n",
      "Epoch 100/200\n",
      "4030/4030 [==============================] - 25s 6ms/sample - loss: 0.1441 - accuracy: 0.9484\n",
      "Epoch 101/200\n",
      "4030/4030 [==============================] - 25s 6ms/sample - loss: 0.1432 - accuracy: 0.9457\n",
      "Epoch 102/200\n",
      "4030/4030 [==============================] - 25s 6ms/sample - loss: 0.1410 - accuracy: 0.9486\n",
      "Epoch 103/200\n",
      "4030/4030 [==============================] - 25s 6ms/sample - loss: 0.1408 - accuracy: 0.9491\n",
      "Epoch 104/200\n",
      "4030/4030 [==============================] - 27s 7ms/sample - loss: 0.1400 - accuracy: 0.9496\n",
      "Epoch 105/200\n",
      "4030/4030 [==============================] - 25s 6ms/sample - loss: 0.1400 - accuracy: 0.9491\n",
      "Epoch 106/200\n",
      "4030/4030 [==============================] - 25s 6ms/sample - loss: 0.1410 - accuracy: 0.9506\n",
      "Epoch 107/200\n",
      "4030/4030 [==============================] - 25s 6ms/sample - loss: 0.1396 - accuracy: 0.9486\n",
      "Epoch 108/200\n",
      "4030/4030 [==============================] - 24s 6ms/sample - loss: 0.1399 - accuracy: 0.9489\n",
      "Epoch 109/200\n",
      "4030/4030 [==============================] - 24s 6ms/sample - loss: 0.1380 - accuracy: 0.9499\n",
      "Epoch 110/200\n",
      "4030/4030 [==============================] - 24s 6ms/sample - loss: 0.1383 - accuracy: 0.9484\n",
      "Epoch 111/200\n",
      "4030/4030 [==============================] - 25s 6ms/sample - loss: 0.1367 - accuracy: 0.9501\n",
      "Epoch 112/200\n",
      "4030/4030 [==============================] - 23s 6ms/sample - loss: 0.1357 - accuracy: 0.9496\n",
      "Epoch 113/200\n",
      "4030/4030 [==============================] - 24s 6ms/sample - loss: 0.1358 - accuracy: 0.9506\n",
      "Epoch 114/200\n",
      "4030/4030 [==============================] - 24s 6ms/sample - loss: 0.1354 - accuracy: 0.9499\n",
      "Epoch 115/200\n",
      "4030/4030 [==============================] - 24s 6ms/sample - loss: 0.1378 - accuracy: 0.9474\n",
      "Epoch 116/200\n",
      "4030/4030 [==============================] - 24s 6ms/sample - loss: 0.1495 - accuracy: 0.9447\n",
      "Epoch 117/200\n",
      "4030/4030 [==============================] - 24s 6ms/sample - loss: 0.1653 - accuracy: 0.9439\n",
      "Epoch 118/200\n",
      "4030/4030 [==============================] - 23s 6ms/sample - loss: 0.1495 - accuracy: 0.9457\n",
      "Epoch 119/200\n",
      "4030/4030 [==============================] - 23s 6ms/sample - loss: 0.1369 - accuracy: 0.9506\n",
      "Epoch 120/200\n",
      "4030/4030 [==============================] - 24s 6ms/sample - loss: 0.1340 - accuracy: 0.9484\n",
      "Epoch 121/200\n",
      "4030/4030 [==============================] - 26s 6ms/sample - loss: 0.1332 - accuracy: 0.9486\n",
      "Epoch 122/200\n",
      "4030/4030 [==============================] - 27s 7ms/sample - loss: 0.1321 - accuracy: 0.9494\n",
      "Epoch 123/200\n",
      "4030/4030 [==============================] - 26s 7ms/sample - loss: 0.1316 - accuracy: 0.9496\n",
      "Epoch 124/200\n",
      "4030/4030 [==============================] - 25s 6ms/sample - loss: 0.1317 - accuracy: 0.9511\n",
      "Epoch 125/200\n",
      "4030/4030 [==============================] - 25s 6ms/sample - loss: 0.1316 - accuracy: 0.9501\n",
      "Epoch 126/200\n",
      "4030/4030 [==============================] - 24s 6ms/sample - loss: 0.1310 - accuracy: 0.9516\n",
      "Epoch 127/200\n",
      "4030/4030 [==============================] - 25s 6ms/sample - loss: 0.1309 - accuracy: 0.9496\n",
      "Epoch 128/200\n",
      "4030/4030 [==============================] - 25s 6ms/sample - loss: 0.1305 - accuracy: 0.9494\n",
      "Epoch 129/200\n",
      "4030/4030 [==============================] - 28s 7ms/sample - loss: 0.1307 - accuracy: 0.9489\n",
      "Epoch 130/200\n",
      "4030/4030 [==============================] - 26s 6ms/sample - loss: 0.1317 - accuracy: 0.9491\n",
      "Epoch 131/200\n",
      "4030/4030 [==============================] - 25s 6ms/sample - loss: 0.1308 - accuracy: 0.9496\n",
      "Epoch 132/200\n",
      "4030/4030 [==============================] - 25s 6ms/sample - loss: 0.1298 - accuracy: 0.9499\n",
      "Epoch 133/200\n",
      "4030/4030 [==============================] - 26s 6ms/sample - loss: 0.1302 - accuracy: 0.9491\n",
      "Epoch 134/200\n",
      "4030/4030 [==============================] - 25s 6ms/sample - loss: 0.1292 - accuracy: 0.9481\n",
      "Epoch 135/200\n",
      "4030/4030 [==============================] - 27s 7ms/sample - loss: 0.1292 - accuracy: 0.9486\n",
      "Epoch 136/200\n",
      "4030/4030 [==============================] - 27s 7ms/sample - loss: 0.1294 - accuracy: 0.9514\n",
      "Epoch 137/200\n",
      "4030/4030 [==============================] - 26s 6ms/sample - loss: 0.1296 - accuracy: 0.9496\n",
      "Epoch 138/200\n",
      "4030/4030 [==============================] - 26s 6ms/sample - loss: 0.1290 - accuracy: 0.9486\n",
      "Epoch 139/200\n",
      "4030/4030 [==============================] - 27s 7ms/sample - loss: 0.1282 - accuracy: 0.9504\n",
      "Epoch 140/200\n",
      "4030/4030 [==============================] - 27s 7ms/sample - loss: 0.1284 - accuracy: 0.9496\n",
      "Epoch 141/200\n",
      "4030/4030 [==============================] - 25s 6ms/sample - loss: 0.1281 - accuracy: 0.9489\n",
      "Epoch 142/200\n",
      "4030/4030 [==============================] - 24s 6ms/sample - loss: 0.1281 - accuracy: 0.9506\n",
      "Epoch 143/200\n",
      "4030/4030 [==============================] - 25s 6ms/sample - loss: 0.1278 - accuracy: 0.9486\n",
      "Epoch 144/200\n",
      "4030/4030 [==============================] - 25s 6ms/sample - loss: 0.1283 - accuracy: 0.9494\n",
      "Epoch 145/200\n",
      "4030/4030 [==============================] - 25s 6ms/sample - loss: 0.1481 - accuracy: 0.9467\n",
      "Epoch 146/200\n",
      "4030/4030 [==============================] - 25s 6ms/sample - loss: 0.1553 - accuracy: 0.9437\n",
      "Epoch 147/200\n",
      "4030/4030 [==============================] - 24s 6ms/sample - loss: 0.1379 - accuracy: 0.9484\n",
      "Epoch 148/200\n",
      "4030/4030 [==============================] - 25s 6ms/sample - loss: 0.1353 - accuracy: 0.9496\n",
      "Epoch 149/200\n",
      "4030/4030 [==============================] - 24s 6ms/sample - loss: 0.1314 - accuracy: 0.9489\n",
      "Epoch 150/200\n",
      "4030/4030 [==============================] - 24s 6ms/sample - loss: 0.1299 - accuracy: 0.9491\n",
      "Epoch 151/200\n",
      "4030/4030 [==============================] - 24s 6ms/sample - loss: 0.1292 - accuracy: 0.9474\n",
      "Epoch 152/200\n",
      "4030/4030 [==============================] - 24s 6ms/sample - loss: 0.1282 - accuracy: 0.9526\n",
      "Epoch 153/200\n"
     ]
    },
    {
     "name": "stdout",
     "output_type": "stream",
     "text": [
      "4030/4030 [==============================] - 24s 6ms/sample - loss: 0.1275 - accuracy: 0.9496\n",
      "Epoch 154/200\n",
      "4030/4030 [==============================] - 23s 6ms/sample - loss: 0.1276 - accuracy: 0.9486\n",
      "Epoch 155/200\n",
      "4030/4030 [==============================] - 23s 6ms/sample - loss: 0.1275 - accuracy: 0.9484\n",
      "Epoch 156/200\n",
      "4030/4030 [==============================] - 23s 6ms/sample - loss: 0.1268 - accuracy: 0.9504\n",
      "Epoch 157/200\n",
      "4030/4030 [==============================] - 23s 6ms/sample - loss: 0.1270 - accuracy: 0.9484\n",
      "Epoch 158/200\n",
      "4030/4030 [==============================] - 25s 6ms/sample - loss: 0.1273 - accuracy: 0.9499\n",
      "Epoch 159/200\n",
      "4030/4030 [==============================] - 25s 6ms/sample - loss: 0.1272 - accuracy: 0.9494\n",
      "Epoch 160/200\n",
      "4030/4030 [==============================] - 25s 6ms/sample - loss: 0.1266 - accuracy: 0.9501\n",
      "Epoch 161/200\n",
      "4030/4030 [==============================] - 26s 7ms/sample - loss: 0.1266 - accuracy: 0.9509\n",
      "Epoch 162/200\n",
      "4030/4030 [==============================] - 26s 6ms/sample - loss: 0.1266 - accuracy: 0.9496\n",
      "Epoch 163/200\n",
      "4030/4030 [==============================] - 25s 6ms/sample - loss: 0.1273 - accuracy: 0.9484\n",
      "Epoch 164/200\n",
      "4030/4030 [==============================] - 24s 6ms/sample - loss: 0.1272 - accuracy: 0.9509\n",
      "Epoch 165/200\n",
      "4030/4030 [==============================] - 25s 6ms/sample - loss: 0.1265 - accuracy: 0.9504\n",
      "Epoch 166/200\n",
      "4030/4030 [==============================] - 24s 6ms/sample - loss: 0.1272 - accuracy: 0.9516\n",
      "Epoch 167/200\n",
      "4030/4030 [==============================] - 25s 6ms/sample - loss: 0.1270 - accuracy: 0.9506\n",
      "Epoch 168/200\n",
      "4030/4030 [==============================] - 25s 6ms/sample - loss: 0.1270 - accuracy: 0.9501\n",
      "Epoch 169/200\n",
      "4030/4030 [==============================] - 25s 6ms/sample - loss: 0.1266 - accuracy: 0.9491\n",
      "Epoch 170/200\n",
      "4030/4030 [==============================] - 24s 6ms/sample - loss: 0.1265 - accuracy: 0.9499\n",
      "Epoch 171/200\n",
      "4030/4030 [==============================] - 26s 7ms/sample - loss: 0.1268 - accuracy: 0.9504\n",
      "Epoch 172/200\n",
      "4030/4030 [==============================] - 28s 7ms/sample - loss: 0.1263 - accuracy: 0.9481\n",
      "Epoch 173/200\n",
      "4030/4030 [==============================] - 24s 6ms/sample - loss: 0.1266 - accuracy: 0.9501\n",
      "Epoch 174/200\n",
      "4030/4030 [==============================] - 24s 6ms/sample - loss: 0.1266 - accuracy: 0.9506\n",
      "Epoch 175/200\n",
      "4030/4030 [==============================] - 27s 7ms/sample - loss: 0.1266 - accuracy: 0.9501\n",
      "Epoch 176/200\n",
      "4030/4030 [==============================] - 25s 6ms/sample - loss: 0.1262 - accuracy: 0.9516\n",
      "Epoch 177/200\n",
      "4030/4030 [==============================] - 26s 7ms/sample - loss: 0.1268 - accuracy: 0.9501\n",
      "Epoch 178/200\n",
      "4030/4030 [==============================] - 25s 6ms/sample - loss: 0.1260 - accuracy: 0.9501\n",
      "Epoch 179/200\n",
      "4030/4030 [==============================] - 25s 6ms/sample - loss: 0.1276 - accuracy: 0.9501\n",
      "Epoch 180/200\n",
      "4030/4030 [==============================] - 23s 6ms/sample - loss: 0.1296 - accuracy: 0.9504\n",
      "Epoch 181/200\n",
      "4030/4030 [==============================] - 24s 6ms/sample - loss: 0.1516 - accuracy: 0.9444\n",
      "Epoch 182/200\n",
      "4030/4030 [==============================] - 27s 7ms/sample - loss: 0.1487 - accuracy: 0.9437\n",
      "Epoch 183/200\n",
      "4030/4030 [==============================] - 78s 19ms/sample - loss: 0.1329 - accuracy: 0.9506\n",
      "Epoch 184/200\n",
      "4030/4030 [==============================] - 26s 6ms/sample - loss: 0.1280 - accuracy: 0.9484\n",
      "Epoch 185/200\n",
      "4030/4030 [==============================] - 25s 6ms/sample - loss: 0.1293 - accuracy: 0.9479\n",
      "Epoch 186/200\n",
      "4030/4030 [==============================] - 25s 6ms/sample - loss: 0.1279 - accuracy: 0.9486\n",
      "Epoch 187/200\n",
      "4030/4030 [==============================] - 24s 6ms/sample - loss: 0.1270 - accuracy: 0.9511\n",
      "Epoch 188/200\n",
      "4030/4030 [==============================] - 27s 7ms/sample - loss: 0.1262 - accuracy: 0.9501\n",
      "Epoch 189/200\n",
      "4030/4030 [==============================] - 26s 7ms/sample - loss: 0.1262 - accuracy: 0.9489\n",
      "Epoch 190/200\n",
      "4030/4030 [==============================] - 26s 6ms/sample - loss: 0.1259 - accuracy: 0.9496\n",
      "Epoch 191/200\n",
      "4030/4030 [==============================] - 24s 6ms/sample - loss: 0.1260 - accuracy: 0.9476\n",
      "Epoch 192/200\n",
      "4030/4030 [==============================] - 24s 6ms/sample - loss: 0.1259 - accuracy: 0.9499\n",
      "Epoch 193/200\n",
      "4030/4030 [==============================] - 24s 6ms/sample - loss: 0.1258 - accuracy: 0.9506\n",
      "Epoch 194/200\n",
      "4030/4030 [==============================] - 24s 6ms/sample - loss: 0.1254 - accuracy: 0.9514\n",
      "Epoch 195/200\n",
      "4030/4030 [==============================] - 24s 6ms/sample - loss: 0.1256 - accuracy: 0.9494\n",
      "Epoch 196/200\n",
      "4030/4030 [==============================] - 25s 6ms/sample - loss: 0.1252 - accuracy: 0.9514\n",
      "Epoch 197/200\n",
      "4030/4030 [==============================] - 24s 6ms/sample - loss: 0.1259 - accuracy: 0.9489\n",
      "Epoch 198/200\n",
      "4030/4030 [==============================] - 24s 6ms/sample - loss: 0.1251 - accuracy: 0.9511\n",
      "Epoch 199/200\n",
      "4030/4030 [==============================] - 24s 6ms/sample - loss: 0.1259 - accuracy: 0.9479\n",
      "Epoch 200/200\n",
      "4030/4030 [==============================] - 24s 6ms/sample - loss: 0.1251 - accuracy: 0.9516\n"
     ]
    }
   ],
   "source": [
    "history = model.fit(input_to_model, label, epochs=200, batch_size=32, verbose=1)"
   ]
  },
  {
   "cell_type": "markdown",
   "metadata": {},
   "source": [
    "Let's plot details of our training."
   ]
  },
  {
   "cell_type": "code",
   "execution_count": 385,
   "metadata": {},
   "outputs": [
    {
     "data": {
      "image/png": "[encoded data removed]",
      "text/plain": [
       "<Figure size 432x288 with 1 Axes>"
      ]
     },
     "metadata": {
      "needs_background": "light"
     },
     "output_type": "display_data"
    },
    {
     "data": {
      "image/png": "[encoded data removed]",
      "text/plain": [
       "<Figure size 432x288 with 1 Axes>"
      ]
     },
     "metadata": {
      "needs_background": "light"
     },
     "output_type": "display_data"
    }
   ],
   "source": [
    "acc = history.history['accuracy']\n",
    "loss = history.history['loss']\n",
    "epochs = range(len(acc))\n",
    "plt.plot(epochs, acc, 'b', label='Training accuracy')\n",
    "plt.title('Training accuracy')\n",
    "plt.figure()\n",
    "plt.plot(epochs, loss, 'b', label='Training Loss')\n",
    "plt.title('Training loss')\n",
    "plt.legend()\n",
    "plt.show()"
   ]
  },
  {
   "cell_type": "markdown",
   "metadata": {},
   "source": [
    "# Generating fake comments\n",
    "\n",
    "To generate fake tweets, we use the below architecture:\n",
    "\n",
    "![](imgs/text_gen.png)\n",
    "\n",
    "The idea is to give one or more starting token(s) to our model, and generate the next tokens until we generate `.`.\n",
    "\n",
    "At each step, we select the token with the highest probability as our next token and generate the next one similartly using `model.predict_classes()`. \n",
    "\n",
    "**Note:** The model takes as input the activation `a` from the previous state of the LSTM and the token chosen, forward propagate by one step, and get a new output activation `a`. The new activation `a` can then be used to generate the output, using the `dense` layer with `softmax` activation as before. \n",
    "\n"
   ]
  },
  {
   "cell_type": "markdown",
   "metadata": {},
   "source": [
    "**Task 2**: Implement `generate()`. \n",
    "\n",
    "***"
   ]
  },
  {
   "cell_type": "code",
   "execution_count": 386,
   "metadata": {},
   "outputs": [],
   "source": [
    "#TASK 2\n",
    "# Implement the generate() function\n",
    "\n",
    "def generate(seed_text):\n",
    "    ### START CODE HERE ###\n",
    "    \n",
    "    #First, split string into input array of tokens\n",
    "    tokens = np.asarray(tokenizer.texts_to_sequences([seed_text])[0])\n",
    "    \n",
    "    #We need to cut off the first tokens later, so record length now\n",
    "    original_count = len(tokens)\n",
    "    \n",
    "    #Loop until max seq len has been reached, we may exit sooner\n",
    "    for loop in range(max_sequence_len):\n",
    "        \n",
    "        #With our tokens array, we want to pad\n",
    "        padded = pad_sequences([tokens], maxlen=max_sequence_len, padding='pre')\n",
    "    \n",
    "        #Feed into trained model to get prediction for next word\n",
    "        predict = model.predict_classes(padded,batch_size=32)\n",
    "        \n",
    "        #Append the next word to the tokens list (without the padding)\n",
    "        tokens = np.append(tokens, predict[0])\n",
    "        \n",
    "        #If the predicted next word is EOS ('.'), we need to generate the string and return it\n",
    "        if reverse_word_map[predict[0]] == '.' or loop == max_sequence_len:\n",
    "            #Build our coherant string, starting with the original string\n",
    "            return_string = seed_text\n",
    "            \n",
    "            #strip the tokens from the first part of token array, because we added the string directly\n",
    "            tokens = tokens[original_count:]\n",
    "                \n",
    "            for i in range(len(tokens[:])):\n",
    "                #If next string is a fullstop, add it and return string\n",
    "                if reverse_word_map[tokens[i]] == '.':\n",
    "                    return_string += '.'\n",
    "                    return(return_string)\n",
    "                elif reverse_word_map[tokens[i]] == ',':\n",
    "                    #no space, add comma\n",
    "                    return_string += ','\n",
    "                else:\n",
    "                    #add a space then add the string\n",
    "                    return_string += ' '\n",
    "                    return_string += reverse_word_map[tokens[i]]\n",
    "                    \n",
    "            #if somehow we haven't seen a '.', return the string we have anyway\n",
    "            return(return_string)\n",
    "\n",
    "\n",
    "    ### END CODE HERE ### "
   ]
  },
  {
   "cell_type": "markdown",
   "metadata": {},
   "source": [
    "**Let's test it:**"
   ]
  },
  {
   "cell_type": "code",
   "execution_count": 387,
   "metadata": {},
   "outputs": [
    {
     "name": "stdout",
     "output_type": "stream",
     "text": [
      "COVID19 virus cannot be transmitted in areas with hot and humid climates.\n",
      "COVID19 is the deadliest virus known to humans.\n",
      "The usa is the covid19 was caused by an accidental leak from wuhan virus research institute.\n",
      "The new virus was engineered by scientists in a lab.\n"
     ]
    }
   ],
   "source": [
    "print(generate(\"COVID19 virus\"))\n",
    "print(generate(\"COVID19 is the\"))\n",
    "print(generate(\"The usa is\"))\n",
    "print(generate(\"The new virus\"))\n"
   ]
  },
  {
   "cell_type": "markdown",
   "metadata": {},
   "source": [
    "**Let's test it in an interactive mode:**"
   ]
  },
  {
   "cell_type": "code",
   "execution_count": 388,
   "metadata": {},
   "outputs": [
    {
     "name": "stdout",
     "output_type": "stream",
     "text": [
      "Write the beginning of your tweet, the algorithm machine will complete it. Your input is: Covid19 is not\n",
      "Covid19 is not covid 1, folks. "
     ]
    }
   ],
   "source": [
    "usr_input = input(\"Write the beginning of your tweet, the algorithm machine will complete it. Your input is: \")\n",
    "for w in generate(usr_input).split():    \n",
    "    print(w, end =\" \")\n",
    "    time.sleep(0.4)\n"
   ]
  },
  {
   "cell_type": "markdown",
   "metadata": {},
   "source": [
    "# Generating text by sampling\n",
    "\n",
    "The previous part is generating text by choosing the token with the highest probability. Now, we sill generate text by sampling as shown in the architecture below:\n",
    "\n",
    "![](imgs/text_gen_sample.png)\n",
    "\n",
    "\n",
    "**TASK 3:** Implement the `generate_sample()` function. To sample a token from the output at each timestep, you need to use the following two functions:\n",
    "- `model.predict_proba()`: To get probabilities from the output layer.\n",
    "- `np.random.choice()`: To sample from the token list using the probaility array of each token.\n",
    "\n",
    "***"
   ]
  },
  {
   "cell_type": "code",
   "execution_count": 389,
   "metadata": {},
   "outputs": [],
   "source": [
    "#TASK 3\n",
    "# Implement the generate_sample() function\n",
    "def generate_sample(seed_text):\n",
    "   ### START CODE HERE ### \n",
    "   \n",
    "    #First, split string into input array of tokens\n",
    "    tokens = np.asarray(tokenizer.texts_to_sequences([seed_text])[0])\n",
    "    \n",
    "    #We need to cut off the first tokens later, so record length now\n",
    "    original_count = len(tokens)\n",
    "    \n",
    "    #Loop until max seq len has been reached, we may exit sooner\n",
    "    for loop in range(max_sequence_len):\n",
    "        \n",
    "        #With our tokens array, we want to pad\n",
    "        padded = pad_sequences([tokens], maxlen=max_sequence_len, padding='pre')\n",
    "    \n",
    "        #Feed into trained model to get probability of prediction\n",
    "        predict_Prob = model.predict_proba(padded,batch_size=32)\n",
    "\n",
    "        #Select random choice using array of prediction probabilities\n",
    "        predict = np.random.choice(total_words,p=predict_Prob[0])\n",
    "\n",
    "        \n",
    "        #Append the next word to the tokens list (without the padding)\n",
    "        tokens = np.append(tokens, predict)\n",
    "        \n",
    "        #If the predicted next word is EOS ('.'), we need to generate the string and return it\n",
    "        if reverse_word_map[predict] == '.' or loop == max_sequence_len:\n",
    "            #Build our coherant string, starting with the original string\n",
    "            return_string = seed_text\n",
    "            \n",
    "            #strip the tokens from the first part of token array, because we added the string directly\n",
    "            tokens = tokens[original_count:]\n",
    "                \n",
    "            for i in range(len(tokens[:])):\n",
    "                #If next string is a fullstop, add it and return string\n",
    "                if reverse_word_map[tokens[i]] == '.':\n",
    "                    return_string += '.'\n",
    "                    return(return_string)\n",
    "                elif reverse_word_map[tokens[i]] == ',':\n",
    "                    #no space, add comma\n",
    "                    return_string += ','\n",
    "                else:\n",
    "                    #add a space then add the string\n",
    "                    return_string += ' '\n",
    "                    return_string += reverse_word_map[tokens[i]]\n",
    "                    \n",
    "            #if somehow we haven't seen a '.', return the string we have anyway\n",
    "            return(return_string)\n",
    "\n",
    "\n",
    "\n",
    "    ### END CODE HERE ### "
   ]
  },
  {
   "cell_type": "markdown",
   "metadata": {},
   "source": [
    "**Let's test it in an interactive mode:**"
   ]
  },
  {
   "cell_type": "code",
   "execution_count": 390,
   "metadata": {},
   "outputs": [
    {
     "name": "stdout",
     "output_type": "stream",
     "text": [
      "Write the beginning of your tweet, the algorithm machine will complete it. Your input is: covid19 is the\n",
      "covid19 is the deadliest virus known to humans. "
     ]
    }
   ],
   "source": [
    "usr_input = input(\"Write the beginning of your tweet, the algorithm machine will complete it. Your input is: \")\n",
    "for w in generate_sample(usr_input).split():    \n",
    "    print(w, end =\" \")\n",
    "    time.sleep(0.4)\n"
   ]
  },
  {
   "cell_type": "markdown",
   "metadata": {},
   "source": [
    "# Generate your own text \n",
    "\n",
    "Below, use you own data to generate content for a different application:"
   ]
  },
  {
   "cell_type": "markdown",
   "metadata": {},
   "source": [
    "Loading a quiz dataset with random set of questions (https://www.kaggle.com/theriley106/hq-trivia-question-database)\n",
    "Obviously, as the questions will be somewhat non-sensical, there are no answers.  All non-question fields have been stripped.\n",
    "\n",
    "Questions generally start with \"who\" \"what\" \"where\" etc, and end with '?'\n"
   ]
  },
  {
   "cell_type": "code",
   "execution_count": 5,
   "metadata": {},
   "outputs": [],
   "source": [
    "tokenizer = Tokenizer(filters='\"#$%&()*+-/:;<=>@[\\\\]^_`{|}~\\t\\n')\n",
    "data = open('questions.txt').read().replace(\".\", \" . \").replace(\",\", \" , \").replace(\"?\", \" ? \").replace(\"!\", \" ! \").replace(\"\\'\", \"\").replace(\"\\\"\", \"\").replace(\"“\",\"\").replace(\"”\",\"\")\n",
    "\n",
    "corpus = data.lower().split(\"\\n\")\n",
    "tokenizer.fit_on_texts(corpus)\n",
    "total_words = len(tokenizer.word_index) + 1\n",
    "\n",
    "input_sequences = []\n",
    "for line in corpus:\n",
    "    token_list = tokenizer.texts_to_sequences([line])[0]\n",
    "    for i in range(1, len(token_list)):\n",
    "        n_gram_sequence = token_list[:i+1]\n",
    "        input_sequences.append(n_gram_sequence)\n",
    "        \n",
    "reverse_word_map = dict(map(reversed, tokenizer.word_index.items()))\n",
    "\n",
    "max_sequence_len = max([len(x) for x in input_sequences])\n",
    "input_sequences = np.array(pad_sequences(input_sequences, maxlen=max_sequence_len, padding='pre'))\n",
    "\n",
    "input_to_model, label = input_sequences[:,:-1],input_sequences[:,-1]\n",
    "label = ku.to_categorical(label, num_classes=total_words)"
   ]
  },
  {
   "cell_type": "code",
   "execution_count": 6,
   "metadata": {},
   "outputs": [
    {
     "name": "stdout",
     "output_type": "stream",
     "text": [
      "Train on 19329 samples\n",
      "Epoch 1/50\n",
      "19329/19329 [==============================] - 69s 4ms/sample - loss: 6.4425 - accuracy: 0.1181\n",
      "Epoch 2/50\n",
      "19329/19329 [==============================] - 66s 3ms/sample - loss: 5.5725 - accuracy: 0.2062\n",
      "Epoch 3/50\n",
      "19329/19329 [==============================] - 65s 3ms/sample - loss: 5.0495 - accuracy: 0.2554\n",
      "Epoch 4/50\n",
      "19329/19329 [==============================] - 65s 3ms/sample - loss: 4.6620 - accuracy: 0.2841\n",
      "Epoch 5/50\n",
      "19329/19329 [==============================] - 65s 3ms/sample - loss: 4.3418 - accuracy: 0.3058\n",
      "Epoch 6/50\n",
      "19329/19329 [==============================] - 65s 3ms/sample - loss: 4.0527 - accuracy: 0.3214\n",
      "Epoch 7/50\n",
      "19329/19329 [==============================] - 65s 3ms/sample - loss: 3.7812 - accuracy: 0.3409\n",
      "Epoch 8/50\n",
      "19329/19329 [==============================] - 66s 3ms/sample - loss: 3.5245 - accuracy: 0.3601\n",
      "Epoch 9/50\n",
      "19329/19329 [==============================] - 66s 3ms/sample - loss: 3.2773 - accuracy: 0.3814\n",
      "Epoch 10/50\n",
      "19329/19329 [==============================] - 65s 3ms/sample - loss: 3.0404 - accuracy: 0.4105\n",
      "Epoch 11/50\n",
      "19329/19329 [==============================] - 66s 3ms/sample - loss: 2.8045 - accuracy: 0.4464\n",
      "Epoch 12/50\n",
      "19329/19329 [==============================] - 66s 3ms/sample - loss: 2.5828 - accuracy: 0.4912\n",
      "Epoch 13/50\n",
      "19329/19329 [==============================] - 66s 3ms/sample - loss: 2.3688 - accuracy: 0.5305\n",
      "Epoch 14/50\n",
      "19329/19329 [==============================] - 65s 3ms/sample - loss: 2.1700 - accuracy: 0.5685\n",
      "Epoch 15/50\n",
      "19329/19329 [==============================] - 65s 3ms/sample - loss: 1.9884 - accuracy: 0.6024\n",
      "Epoch 16/50\n",
      "19329/19329 [==============================] - 65s 3ms/sample - loss: 1.8263 - accuracy: 0.6371\n",
      "Epoch 17/50\n",
      "19329/19329 [==============================] - 65s 3ms/sample - loss: 1.6805 - accuracy: 0.6656\n",
      "Epoch 18/50\n",
      "19329/19329 [==============================] - 67s 3ms/sample - loss: 1.5514 - accuracy: 0.6922\n",
      "Epoch 19/50\n",
      "19329/19329 [==============================] - 66s 3ms/sample - loss: 1.4351 - accuracy: 0.7152\n",
      "Epoch 20/50\n",
      "19329/19329 [==============================] - 67s 3ms/sample - loss: 1.3322 - accuracy: 0.7371\n",
      "Epoch 21/50\n",
      "19329/19329 [==============================] - 66s 3ms/sample - loss: 1.2414 - accuracy: 0.7562\n",
      "Epoch 22/50\n",
      "19329/19329 [==============================] - 67s 3ms/sample - loss: 1.1559 - accuracy: 0.7735\n",
      "Epoch 23/50\n",
      "19329/19329 [==============================] - 66s 3ms/sample - loss: 1.0782 - accuracy: 0.7929\n",
      "Epoch 24/50\n",
      "19329/19329 [==============================] - 67s 3ms/sample - loss: 1.0110 - accuracy: 0.8075\n",
      "Epoch 25/50\n",
      "19329/19329 [==============================] - 67s 3ms/sample - loss: 0.9515 - accuracy: 0.8177\n",
      "Epoch 26/50\n",
      "19329/19329 [==============================] - 67s 3ms/sample - loss: 0.8919 - accuracy: 0.8303\n",
      "Epoch 27/50\n",
      "19329/19329 [==============================] - 70s 4ms/sample - loss: 0.8421 - accuracy: 0.8411\n",
      "Epoch 28/50\n",
      "19329/19329 [==============================] - 66s 3ms/sample - loss: 0.7965 - accuracy: 0.8489\n",
      "Epoch 29/50\n",
      "19329/19329 [==============================] - 65s 3ms/sample - loss: 0.7569 - accuracy: 0.8574\n",
      "Epoch 30/50\n",
      "19329/19329 [==============================] - 65s 3ms/sample - loss: 0.7207 - accuracy: 0.8629\n",
      "Epoch 31/50\n",
      "19329/19329 [==============================] - 66s 3ms/sample - loss: 0.6900 - accuracy: 0.8666\n",
      "Epoch 32/50\n",
      "19329/19329 [==============================] - 67s 3ms/sample - loss: 0.6620 - accuracy: 0.8720\n",
      "Epoch 33/50\n",
      "19329/19329 [==============================] - 67s 3ms/sample - loss: 0.6342 - accuracy: 0.8779\n",
      "Epoch 34/50\n",
      "19329/19329 [==============================] - 67s 3ms/sample - loss: 0.6135 - accuracy: 0.8799\n",
      "Epoch 35/50\n",
      "19329/19329 [==============================] - 67s 3ms/sample - loss: 0.5914 - accuracy: 0.8847\n",
      "Epoch 36/50\n",
      "19329/19329 [==============================] - 69s 4ms/sample - loss: 0.5746 - accuracy: 0.8862\n",
      "Epoch 37/50\n",
      "19329/19329 [==============================] - 67s 3ms/sample - loss: 0.5630 - accuracy: 0.8865\n",
      "Epoch 38/50\n",
      "19329/19329 [==============================] - 67s 3ms/sample - loss: 0.5473 - accuracy: 0.8896\n",
      "Epoch 39/50\n",
      "19329/19329 [==============================] - 67s 3ms/sample - loss: 0.5313 - accuracy: 0.8912\n",
      "Epoch 40/50\n",
      "19329/19329 [==============================] - 67s 3ms/sample - loss: 0.5222 - accuracy: 0.8928\n",
      "Epoch 41/50\n",
      "19329/19329 [==============================] - 67s 3ms/sample - loss: 0.5119 - accuracy: 0.8930\n",
      "Epoch 42/50\n",
      "19329/19329 [==============================] - 68s 3ms/sample - loss: 0.5079 - accuracy: 0.8935\n",
      "Epoch 43/50\n",
      "19329/19329 [==============================] - 67s 3ms/sample - loss: 0.5007 - accuracy: 0.8941\n",
      "Epoch 44/50\n",
      "19329/19329 [==============================] - 67s 3ms/sample - loss: 0.4911 - accuracy: 0.8956\n",
      "Epoch 45/50\n",
      "19329/19329 [==============================] - 68s 4ms/sample - loss: 0.4847 - accuracy: 0.8963\n",
      "Epoch 46/50\n",
      "19329/19329 [==============================] - 68s 3ms/sample - loss: 0.4783 - accuracy: 0.8956\n",
      "Epoch 47/50\n",
      "19329/19329 [==============================] - 68s 3ms/sample - loss: 0.4737 - accuracy: 0.8967\n",
      "Epoch 48/50\n",
      "19329/19329 [==============================] - 68s 4ms/sample - loss: 0.4715 - accuracy: 0.8966\n",
      "Epoch 49/50\n",
      "19329/19329 [==============================] - 68s 4ms/sample - loss: 0.4667 - accuracy: 0.8963\n",
      "Epoch 50/50\n",
      "19329/19329 [==============================] - 68s 4ms/sample - loss: 0.4625 - accuracy: 0.8968\n"
     ]
    }
   ],
   "source": [
    "def deep_fake_comment_model():\n",
    "\n",
    "    model = Sequential()\n",
    "    model.add(Embedding(input_dim=total_words, output_dim=128))\n",
    "    model.add(LSTM(128))\n",
    "    model.add(Dense(total_words, activation='softmax'))\n",
    "    model.compile(loss='categorical_crossentropy', optimizer='adam', metrics=['accuracy'])\n",
    "    return(model) \n",
    "    \n",
    "#Print details of the model.\n",
    "model_two = deep_fake_comment_model()\n",
    "\n",
    "history_two = model_two.fit(input_to_model, label, epochs=50, batch_size=32, verbose=1)"
   ]
  },
  {
   "cell_type": "code",
   "execution_count": 13,
   "metadata": {},
   "outputs": [
    {
     "name": "stdout",
     "output_type": "stream",
     "text": [
      "What is the only u. s. state home to two ivy league schools?\n",
      "Who was the first u. s. president to enjoy indoor plumbing at the white house?\n",
      "How did senator strom thurmond prepare for the longest ever u. s. congressional filibuster?\n",
      "When did flight for what, if obtained, which of these is actually from a fuzzless peach?\n",
      "Where did the budget retailer poundland open its first store in 1990?\n",
      "What is the largest planet in our solar system?\n",
      "What shape is the scientific term for a music in france?\n",
      "What color is a home to the most wonderful movie that played if an aculeus?\n"
     ]
    }
   ],
   "source": [
    "def generate_question(seed_text):\n",
    "   \n",
    "    #First, split string into input array of tokens\n",
    "    tokens = np.asarray(tokenizer.texts_to_sequences([seed_text])[0])\n",
    "    \n",
    "    #We need to cut off the first tokens later, so record length now\n",
    "    original_count = len(tokens)\n",
    "    \n",
    "    #Loop until max seq len has been reached, we may exit sooner\n",
    "    for loop in range(max_sequence_len):\n",
    "        \n",
    "        #With our tokens array, we want to pad\n",
    "        padded = pad_sequences([tokens], maxlen=max_sequence_len, padding='pre')\n",
    "    \n",
    "        #Feed into trained model to get probability of prediction\n",
    "        predict_Prob = model_two.predict_proba(padded,batch_size=32)\n",
    "\n",
    "        #Select random choice using array of prediction probabilities\n",
    "        predict = np.random.choice(total_words,p=predict_Prob[0])\n",
    "\n",
    "        \n",
    "        #Append the next word to the tokens list (without the padding)\n",
    "        tokens = np.append(tokens, predict)\n",
    "        \n",
    "        #Change this so that questions end with a '?', rather than '.'\n",
    "        if reverse_word_map[predict] == '?' or loop == max_sequence_len:\n",
    "            #Build our coherant string, starting with the original string\n",
    "            return_string = seed_text\n",
    "            \n",
    "            #strip the tokens from the first part of token array, because we added the string directly\n",
    "            tokens = tokens[original_count:]\n",
    "                \n",
    "            for i in range(len(tokens[:])):\n",
    "                #If next string is a fullstop, add it and return string\n",
    "                if reverse_word_map[tokens[i]] == '?':\n",
    "                    return_string += '?'\n",
    "                    return(return_string)\n",
    "                elif reverse_word_map[tokens[i]] == ',':\n",
    "                    #no space, add comma\n",
    "                    return_string += ','\n",
    "                elif reverse_word_map[tokens[i]] == '.':\n",
    "                    #no space, add comma\n",
    "                    return_string += '.'\n",
    "                else:\n",
    "                    #add a space then add the string\n",
    "                    return_string += ' '\n",
    "                    return_string += reverse_word_map[tokens[i]]\n",
    "                    \n",
    "            #if somehow we haven't seen a '?', return the string we have anyway\n",
    "            return(return_string)\n",
    "        \n",
    "print(generate_question(\"What is\"))\n",
    "print(generate_question(\"Who was\"))\n",
    "print(generate_question(\"How did\"))\n",
    "print(generate_question(\"When did\"))\n",
    "print(generate_question(\"Where did\"))\n",
    "print(generate_question(\"What is the largest\"))\n",
    "print(generate_question(\"What shape is\"))\n",
    "print(generate_question(\"What color is\"))"
   ]
  },
  {
   "cell_type": "markdown",
   "metadata": {},
   "source": [
    "# Congratulations!\n",
    "\n",
    "You've come to the end of this assignment, and have seen how to build a deep learning architecture that generate fake tweets/comments. \n",
    "\n",
    "Congratulations on finishing this notebook! \n",
    "\n"
   ]
  }
 ],
 "metadata": {
  "accelerator": "GPU",
  "colab": {
   "name": "Shakespeare_generatoripynb",
   "provenance": []
  },
  "kernelspec": {
   "display_name": "Python 3",
   "language": "python",
   "name": "python3"
  },
  "language_info": {
   "codemirror_mode": {
    "name": "ipython",
    "version": 3
   },
   "file_extension": ".py",
   "mimetype": "text/x-python",
   "name": "python",
   "nbconvert_exporter": "python",
   "pygments_lexer": "ipython3",
   "version": "3.7.6"
  }
 },
 "nbformat": 4,
 "nbformat_minor": 1
}
